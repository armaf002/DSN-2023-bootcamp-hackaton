{
 "cells": [
  {
   "cell_type": "markdown",
   "metadata": {},
   "source": [
    "# Libraries Importation"
   ]
  },
  {
   "cell_type": "code",
   "execution_count": 299,
   "metadata": {
    "id": "YkXUChs2UKLE"
   },
   "outputs": [],
   "source": [
    "# import libraries\n",
    "import pandas as pd\n",
    "import numpy as np\n",
    "import matplotlib.pyplot as plt\n",
    "import seaborn as sns\n",
    "\n",
    "from sklearn.model_selection import train_test_split, cross_val_score, KFold\n",
    "from sklearn.preprocessing import LabelEncoder\n",
    "\n",
    "from sklearn.linear_model import LinearRegression, Lasso, Ridge, ElasticNet\n",
    "from sklearn.ensemble import RandomForestRegressor, GradientBoostingRegressor, AdaBoostRegressor\n",
    "from sklearn.svm import SVR\n",
    "from sklearn.neighbors import KNeighborsRegressor\n",
    "from sklearn.tree import DecisionTreeRegressor\n",
    "from catboost import CatBoostRegressor\n",
    "from xgboost import XGBRegressor\n",
    "from lightgbm import LGBMRegressor\n",
    "from sklearn.naive_bayes import GaussianNB\n",
    "from sklearn.metrics import mean_squared_error"
   ]
  },
  {
   "cell_type": "markdown",
   "metadata": {},
   "source": [
    "# Loading of Dataset"
   ]
  },
  {
   "cell_type": "code",
   "execution_count": null,
   "metadata": {},
   "outputs": [],
   "source": []
  },
  {
   "cell_type": "code",
   "execution_count": 300,
   "metadata": {
    "id": "GHub-pOoUKLG"
   },
   "outputs": [],
   "source": [
    "# read data\n",
    "train = pd.read_csv('Housing_dataset_train.csv')\n",
    "test = pd.read_csv('Housing_dataset_test.csv')\n",
    "sample = pd.read_csv('Sample_submission.csv')"
   ]
  },
  {
   "cell_type": "code",
   "execution_count": 301,
   "metadata": {
    "colab": {
     "base_uri": "https://localhost:8080/"
    },
    "id": "S6FYlX-VUKLG",
    "outputId": "152e52fb-b44a-43d7-d012-04b2c1fecff6"
   },
   "outputs": [
    {
     "data": {
      "text/html": [
       "<div>\n",
       "<style scoped>\n",
       "    .dataframe tbody tr th:only-of-type {\n",
       "        vertical-align: middle;\n",
       "    }\n",
       "\n",
       "    .dataframe tbody tr th {\n",
       "        vertical-align: top;\n",
       "    }\n",
       "\n",
       "    .dataframe thead th {\n",
       "        text-align: right;\n",
       "    }\n",
       "</style>\n",
       "<table border=\"1\" class=\"dataframe\">\n",
       "  <thead>\n",
       "    <tr style=\"text-align: right;\">\n",
       "      <th></th>\n",
       "      <th>ID</th>\n",
       "      <th>loc</th>\n",
       "      <th>title</th>\n",
       "      <th>bedroom</th>\n",
       "      <th>bathroom</th>\n",
       "      <th>parking_space</th>\n",
       "      <th>price</th>\n",
       "    </tr>\n",
       "  </thead>\n",
       "  <tbody>\n",
       "    <tr>\n",
       "      <th>0</th>\n",
       "      <td>3583</td>\n",
       "      <td>Katsina</td>\n",
       "      <td>Semi-detached duplex</td>\n",
       "      <td>2.0</td>\n",
       "      <td>2.0</td>\n",
       "      <td>1.0</td>\n",
       "      <td>1149999.565</td>\n",
       "    </tr>\n",
       "    <tr>\n",
       "      <th>1</th>\n",
       "      <td>2748</td>\n",
       "      <td>Ondo</td>\n",
       "      <td>Apartment</td>\n",
       "      <td>NaN</td>\n",
       "      <td>2.0</td>\n",
       "      <td>4.0</td>\n",
       "      <td>1672416.689</td>\n",
       "    </tr>\n",
       "    <tr>\n",
       "      <th>2</th>\n",
       "      <td>9261</td>\n",
       "      <td>Ekiti</td>\n",
       "      <td>NaN</td>\n",
       "      <td>7.0</td>\n",
       "      <td>5.0</td>\n",
       "      <td>NaN</td>\n",
       "      <td>3364799.814</td>\n",
       "    </tr>\n",
       "    <tr>\n",
       "      <th>3</th>\n",
       "      <td>2224</td>\n",
       "      <td>Anambra</td>\n",
       "      <td>Detached duplex</td>\n",
       "      <td>5.0</td>\n",
       "      <td>2.0</td>\n",
       "      <td>4.0</td>\n",
       "      <td>2410306.756</td>\n",
       "    </tr>\n",
       "    <tr>\n",
       "      <th>4</th>\n",
       "      <td>10300</td>\n",
       "      <td>Kogi</td>\n",
       "      <td>Terrace duplex</td>\n",
       "      <td>NaN</td>\n",
       "      <td>5.0</td>\n",
       "      <td>6.0</td>\n",
       "      <td>2600700.898</td>\n",
       "    </tr>\n",
       "  </tbody>\n",
       "</table>\n",
       "</div>"
      ],
      "text/plain": [
       "      ID      loc                 title  bedroom  bathroom  parking_space  \\\n",
       "0   3583  Katsina  Semi-detached duplex      2.0       2.0            1.0   \n",
       "1   2748     Ondo             Apartment      NaN       2.0            4.0   \n",
       "2   9261    Ekiti                   NaN      7.0       5.0            NaN   \n",
       "3   2224  Anambra       Detached duplex      5.0       2.0            4.0   \n",
       "4  10300     Kogi        Terrace duplex      NaN       5.0            6.0   \n",
       "\n",
       "         price  \n",
       "0  1149999.565  \n",
       "1  1672416.689  \n",
       "2  3364799.814  \n",
       "3  2410306.756  \n",
       "4  2600700.898  "
      ]
     },
     "execution_count": 301,
     "metadata": {},
     "output_type": "execute_result"
    }
   ],
   "source": [
    "train.head()"
   ]
  },
  {
   "cell_type": "code",
   "execution_count": 302,
   "metadata": {
    "colab": {
     "base_uri": "https://localhost:8080/"
    },
    "id": "GQq6O7icUKLH",
    "outputId": "a16e26a0-09c3-4e26-c5ce-c99ccfc65fbb"
   },
   "outputs": [
    {
     "data": {
      "text/html": [
       "<div>\n",
       "<style scoped>\n",
       "    .dataframe tbody tr th:only-of-type {\n",
       "        vertical-align: middle;\n",
       "    }\n",
       "\n",
       "    .dataframe tbody tr th {\n",
       "        vertical-align: top;\n",
       "    }\n",
       "\n",
       "    .dataframe thead th {\n",
       "        text-align: right;\n",
       "    }\n",
       "</style>\n",
       "<table border=\"1\" class=\"dataframe\">\n",
       "  <thead>\n",
       "    <tr style=\"text-align: right;\">\n",
       "      <th></th>\n",
       "      <th>ID</th>\n",
       "      <th>loc</th>\n",
       "      <th>title</th>\n",
       "      <th>bedroom</th>\n",
       "      <th>bathroom</th>\n",
       "      <th>parking_space</th>\n",
       "    </tr>\n",
       "  </thead>\n",
       "  <tbody>\n",
       "    <tr>\n",
       "      <th>0</th>\n",
       "      <td>845</td>\n",
       "      <td>Kano</td>\n",
       "      <td>Penthouse</td>\n",
       "      <td>4</td>\n",
       "      <td>1</td>\n",
       "      <td>2</td>\n",
       "    </tr>\n",
       "    <tr>\n",
       "      <th>1</th>\n",
       "      <td>1924</td>\n",
       "      <td>Adamawa</td>\n",
       "      <td>Apartment</td>\n",
       "      <td>2</td>\n",
       "      <td>2</td>\n",
       "      <td>4</td>\n",
       "    </tr>\n",
       "    <tr>\n",
       "      <th>2</th>\n",
       "      <td>10718</td>\n",
       "      <td>Adamawa</td>\n",
       "      <td>Bungalow</td>\n",
       "      <td>2</td>\n",
       "      <td>7</td>\n",
       "      <td>2</td>\n",
       "    </tr>\n",
       "    <tr>\n",
       "      <th>3</th>\n",
       "      <td>12076</td>\n",
       "      <td>Lagos</td>\n",
       "      <td>Mansion</td>\n",
       "      <td>9</td>\n",
       "      <td>5</td>\n",
       "      <td>2</td>\n",
       "    </tr>\n",
       "    <tr>\n",
       "      <th>4</th>\n",
       "      <td>12254</td>\n",
       "      <td>Gombe</td>\n",
       "      <td>Semi-detached duplex</td>\n",
       "      <td>5</td>\n",
       "      <td>6</td>\n",
       "      <td>1</td>\n",
       "    </tr>\n",
       "  </tbody>\n",
       "</table>\n",
       "</div>"
      ],
      "text/plain": [
       "      ID      loc                 title  bedroom  bathroom  parking_space\n",
       "0    845     Kano             Penthouse        4         1              2\n",
       "1   1924  Adamawa             Apartment        2         2              4\n",
       "2  10718  Adamawa              Bungalow        2         7              2\n",
       "3  12076    Lagos               Mansion        9         5              2\n",
       "4  12254    Gombe  Semi-detached duplex        5         6              1"
      ]
     },
     "execution_count": 302,
     "metadata": {},
     "output_type": "execute_result"
    }
   ],
   "source": [
    "test.head()"
   ]
  },
  {
   "cell_type": "code",
   "execution_count": 303,
   "metadata": {
    "id": "9ayj2jaKUKLH",
    "scrolled": true
   },
   "outputs": [
    {
     "data": {
      "text/html": [
       "<div>\n",
       "<style scoped>\n",
       "    .dataframe tbody tr th:only-of-type {\n",
       "        vertical-align: middle;\n",
       "    }\n",
       "\n",
       "    .dataframe tbody tr th {\n",
       "        vertical-align: top;\n",
       "    }\n",
       "\n",
       "    .dataframe thead th {\n",
       "        text-align: right;\n",
       "    }\n",
       "</style>\n",
       "<table border=\"1\" class=\"dataframe\">\n",
       "  <thead>\n",
       "    <tr style=\"text-align: right;\">\n",
       "      <th></th>\n",
       "      <th>ID</th>\n",
       "    </tr>\n",
       "  </thead>\n",
       "  <tbody>\n",
       "    <tr>\n",
       "      <th>0</th>\n",
       "      <td>845</td>\n",
       "    </tr>\n",
       "    <tr>\n",
       "      <th>1</th>\n",
       "      <td>1924</td>\n",
       "    </tr>\n",
       "    <tr>\n",
       "      <th>2</th>\n",
       "      <td>10718</td>\n",
       "    </tr>\n",
       "    <tr>\n",
       "      <th>3</th>\n",
       "      <td>12076</td>\n",
       "    </tr>\n",
       "    <tr>\n",
       "      <th>4</th>\n",
       "      <td>12254</td>\n",
       "    </tr>\n",
       "  </tbody>\n",
       "</table>\n",
       "</div>"
      ],
      "text/plain": [
       "      ID\n",
       "0    845\n",
       "1   1924\n",
       "2  10718\n",
       "3  12076\n",
       "4  12254"
      ]
     },
     "execution_count": 303,
     "metadata": {},
     "output_type": "execute_result"
    }
   ],
   "source": [
    "sample.head()"
   ]
  },
  {
   "cell_type": "markdown",
   "metadata": {},
   "source": [
    "# Data Exploration"
   ]
  },
  {
   "cell_type": "code",
   "execution_count": 304,
   "metadata": {
    "id": "8s4ujuRKUKLI"
   },
   "outputs": [
    {
     "data": {
      "text/plain": [
       "((14000, 7), (6000, 6), (6000, 1))"
      ]
     },
     "execution_count": 304,
     "metadata": {},
     "output_type": "execute_result"
    }
   ],
   "source": [
    "# Check size and shape of datasets\n",
    "train.shape, test.shape, sample.shape"
   ]
  },
  {
   "cell_type": "code",
   "execution_count": 305,
   "metadata": {},
   "outputs": [
    {
     "data": {
      "text/plain": [
       "0.3"
      ]
     },
     "execution_count": 305,
     "metadata": {},
     "output_type": "execute_result"
    }
   ],
   "source": [
    "# Train to test sets ratio\n",
    "(test.shape[0]) / (train.shape[0] + test.shape[0])"
   ]
  },
  {
   "cell_type": "code",
   "execution_count": 306,
   "metadata": {
    "colab": {
     "base_uri": "https://localhost:8080/"
    },
    "id": "gB5OUlMXUKLI",
    "outputId": "cdf21ba5-e98a-4867-fc2b-2abbd2ef910a",
    "scrolled": true
   },
   "outputs": [
    {
     "name": "stdout",
     "output_type": "stream",
     "text": [
      "<class 'pandas.core.frame.DataFrame'>\n",
      "RangeIndex: 14000 entries, 0 to 13999\n",
      "Data columns (total 7 columns):\n",
      " #   Column         Non-Null Count  Dtype  \n",
      "---  ------         --------------  -----  \n",
      " 0   ID             14000 non-null  int64  \n",
      " 1   loc            12187 non-null  object \n",
      " 2   title          12278 non-null  object \n",
      " 3   bedroom        12201 non-null  float64\n",
      " 4   bathroom       12195 non-null  float64\n",
      " 5   parking_space  12189 non-null  float64\n",
      " 6   price          14000 non-null  float64\n",
      "dtypes: float64(4), int64(1), object(2)\n",
      "memory usage: 765.8+ KB\n"
     ]
    }
   ],
   "source": [
    "train.info()"
   ]
  },
  {
   "cell_type": "code",
   "execution_count": 307,
   "metadata": {
    "scrolled": false
   },
   "outputs": [
    {
     "data": {
      "text/html": [
       "<div>\n",
       "<style scoped>\n",
       "    .dataframe tbody tr th:only-of-type {\n",
       "        vertical-align: middle;\n",
       "    }\n",
       "\n",
       "    .dataframe tbody tr th {\n",
       "        vertical-align: top;\n",
       "    }\n",
       "\n",
       "    .dataframe thead th {\n",
       "        text-align: right;\n",
       "    }\n",
       "</style>\n",
       "<table border=\"1\" class=\"dataframe\">\n",
       "  <thead>\n",
       "    <tr style=\"text-align: right;\">\n",
       "      <th></th>\n",
       "      <th>ID</th>\n",
       "      <th>bedroom</th>\n",
       "      <th>bathroom</th>\n",
       "      <th>parking_space</th>\n",
       "      <th>price</th>\n",
       "    </tr>\n",
       "  </thead>\n",
       "  <tbody>\n",
       "    <tr>\n",
       "      <th>count</th>\n",
       "      <td>14000.000000</td>\n",
       "      <td>12201.000000</td>\n",
       "      <td>12195.000000</td>\n",
       "      <td>12189.000000</td>\n",
       "      <td>1.400000e+04</td>\n",
       "    </tr>\n",
       "    <tr>\n",
       "      <th>mean</th>\n",
       "      <td>4862.700357</td>\n",
       "      <td>4.308171</td>\n",
       "      <td>3.134235</td>\n",
       "      <td>3.169825</td>\n",
       "      <td>2.138082e+06</td>\n",
       "    </tr>\n",
       "    <tr>\n",
       "      <th>std</th>\n",
       "      <td>3818.348214</td>\n",
       "      <td>2.441165</td>\n",
       "      <td>2.035950</td>\n",
       "      <td>1.599415</td>\n",
       "      <td>1.083057e+06</td>\n",
       "    </tr>\n",
       "    <tr>\n",
       "      <th>min</th>\n",
       "      <td>0.000000</td>\n",
       "      <td>1.000000</td>\n",
       "      <td>1.000000</td>\n",
       "      <td>1.000000</td>\n",
       "      <td>4.319673e+05</td>\n",
       "    </tr>\n",
       "    <tr>\n",
       "      <th>25%</th>\n",
       "      <td>1672.750000</td>\n",
       "      <td>2.000000</td>\n",
       "      <td>1.000000</td>\n",
       "      <td>2.000000</td>\n",
       "      <td>1.393990e+06</td>\n",
       "    </tr>\n",
       "    <tr>\n",
       "      <th>50%</th>\n",
       "      <td>3527.000000</td>\n",
       "      <td>4.000000</td>\n",
       "      <td>2.000000</td>\n",
       "      <td>3.000000</td>\n",
       "      <td>1.895223e+06</td>\n",
       "    </tr>\n",
       "    <tr>\n",
       "      <th>75%</th>\n",
       "      <td>8011.250000</td>\n",
       "      <td>6.000000</td>\n",
       "      <td>5.000000</td>\n",
       "      <td>4.000000</td>\n",
       "      <td>2.586699e+06</td>\n",
       "    </tr>\n",
       "    <tr>\n",
       "      <th>max</th>\n",
       "      <td>12999.000000</td>\n",
       "      <td>9.000000</td>\n",
       "      <td>7.000000</td>\n",
       "      <td>6.000000</td>\n",
       "      <td>1.656849e+07</td>\n",
       "    </tr>\n",
       "  </tbody>\n",
       "</table>\n",
       "</div>"
      ],
      "text/plain": [
       "                 ID       bedroom      bathroom  parking_space         price\n",
       "count  14000.000000  12201.000000  12195.000000   12189.000000  1.400000e+04\n",
       "mean    4862.700357      4.308171      3.134235       3.169825  2.138082e+06\n",
       "std     3818.348214      2.441165      2.035950       1.599415  1.083057e+06\n",
       "min        0.000000      1.000000      1.000000       1.000000  4.319673e+05\n",
       "25%     1672.750000      2.000000      1.000000       2.000000  1.393990e+06\n",
       "50%     3527.000000      4.000000      2.000000       3.000000  1.895223e+06\n",
       "75%     8011.250000      6.000000      5.000000       4.000000  2.586699e+06\n",
       "max    12999.000000      9.000000      7.000000       6.000000  1.656849e+07"
      ]
     },
     "execution_count": 307,
     "metadata": {},
     "output_type": "execute_result"
    }
   ],
   "source": [
    "train.describe()"
   ]
  },
  {
   "cell_type": "code",
   "execution_count": 308,
   "metadata": {
    "scrolled": true
   },
   "outputs": [
    {
     "data": {
      "text/plain": [
       "ID                  0\n",
       "loc              1813\n",
       "title            1722\n",
       "bedroom          1799\n",
       "bathroom         1805\n",
       "parking_space    1811\n",
       "price               0\n",
       "dtype: int64"
      ]
     },
     "execution_count": 308,
     "metadata": {},
     "output_type": "execute_result"
    }
   ],
   "source": [
    "train.isnull().sum()"
   ]
  },
  {
   "cell_type": "code",
   "execution_count": 309,
   "metadata": {},
   "outputs": [
    {
     "data": {
      "text/plain": [
       "(False, False)"
      ]
     },
     "execution_count": 309,
     "metadata": {},
     "output_type": "execute_result"
    }
   ],
   "source": [
    "# Check for duplicates\n",
    "train.duplicated().any(), test.duplicated().any()"
   ]
  },
  {
   "cell_type": "code",
   "execution_count": 310,
   "metadata": {
    "id": "JfcwLxKsUKLI",
    "scrolled": false
   },
   "outputs": [
    {
     "name": "stderr",
     "output_type": "stream",
     "text": [
      "C:\\Users\\RIDWAN\\Anaconda3\\lib\\site-packages\\seaborn\\_decorators.py:36: FutureWarning: Pass the following variable as a keyword arg: x. From version 0.12, the only valid positional argument will be `data`, and passing other arguments without an explicit keyword will result in an error or misinterpretation.\n",
      "  warnings.warn(\n"
     ]
    },
    {
     "data": {
      "image/png": "[encoded data removed]",
      "text/plain": [
       "<Figure size 936x504 with 1 Axes>"
      ]
     },
     "metadata": {},
     "output_type": "display_data"
    }
   ],
   "source": [
    "\n",
    "# Plotting boxplot for the price to check for outliers\n",
    "sns.set_style('darkgrid')\n",
    "plt.figure(figsize = (13, 7))\n",
    "sns.boxplot(train.price)\n",
    "plt.title('Boxplot showing CO2 emission outliers', y = 1.02, fontsize = 15)  \n",
    "plt.show()\n"
   ]
  },
  {
   "cell_type": "code",
   "execution_count": 311,
   "metadata": {
    "scrolled": true
   },
   "outputs": [
    {
     "data": {
      "text/plain": [
       "bedroom          0\n",
       "bathroom         0\n",
       "parking_space    0\n",
       "dtype: int64"
      ]
     },
     "execution_count": 311,
     "metadata": {},
     "output_type": "execute_result"
    }
   ],
   "source": [
    "(train[['bedroom','bathroom', 'parking_space']] == 0).sum()"
   ]
  },
  {
   "cell_type": "code",
   "execution_count": 312,
   "metadata": {},
   "outputs": [
    {
     "data": {
      "image/png": "[encoded data removed]",
      "text/plain": [
       "<Figure size 936x504 with 1 Axes>"
      ]
     },
     "metadata": {},
     "output_type": "display_data"
    },
    {
     "data": {
      "text/plain": [
       "None"
      ]
     },
     "metadata": {},
     "output_type": "display_data"
    },
    {
     "data": {
      "text/plain": [
       "2.4518089350950483"
      ]
     },
     "metadata": {},
     "output_type": "display_data"
    }
   ],
   "source": [
    "# Price variable distribution\n",
    "sns.set_style('darkgrid')\n",
    "plt.figure(figsize = (13, 7))\n",
    "sns.histplot(train.price, kde = True, bins = 15)\n",
    "plt.title('Target variable distribution', y = 1.02, fontsize = 15)\n",
    "display(plt.show(), train.price.skew())"
   ]
  },
  {
   "cell_type": "code",
   "execution_count": 313,
   "metadata": {},
   "outputs": [
    {
     "name": "stderr",
     "output_type": "stream",
     "text": [
      "C:\\Users\\RIDWAN\\Anaconda3\\lib\\site-packages\\seaborn\\distributions.py:2619: FutureWarning: `distplot` is a deprecated function and will be removed in a future version. Please adapt your code to use either `displot` (a figure-level function with similar flexibility) or `histplot` (an axes-level function for histograms).\n",
      "  warnings.warn(msg, FutureWarning)\n"
     ]
    },
    {
     "data": {
      "image/png": "[encoded data removed]",
      "text/plain": [
       "<Figure size 1008x504 with 1 Axes>"
      ]
     },
     "metadata": {},
     "output_type": "display_data"
    },
    {
     "name": "stderr",
     "output_type": "stream",
     "text": [
      "C:\\Users\\RIDWAN\\Anaconda3\\lib\\site-packages\\seaborn\\distributions.py:2619: FutureWarning: `distplot` is a deprecated function and will be removed in a future version. Please adapt your code to use either `displot` (a figure-level function with similar flexibility) or `histplot` (an axes-level function for histograms).\n",
      "  warnings.warn(msg, FutureWarning)\n"
     ]
    },
    {
     "data": {
      "image/png": "[encoded data removed]",
      "text/plain": [
       "<Figure size 1008x504 with 1 Axes>"
      ]
     },
     "metadata": {},
     "output_type": "display_data"
    },
    {
     "name": "stderr",
     "output_type": "stream",
     "text": [
      "C:\\Users\\RIDWAN\\Anaconda3\\lib\\site-packages\\seaborn\\distributions.py:2619: FutureWarning: `distplot` is a deprecated function and will be removed in a future version. Please adapt your code to use either `displot` (a figure-level function with similar flexibility) or `histplot` (an axes-level function for histograms).\n",
      "  warnings.warn(msg, FutureWarning)\n"
     ]
    },
    {
     "data": {
      "image/png": "[encoded data removed]",
      "text/plain": [
       "<Figure size 1008x504 with 1 Axes>"
      ]
     },
     "metadata": {},
     "output_type": "display_data"
    }
   ],
   "source": [
    "# Loop through each column in the column list for distribution plots\n",
    "column_list = ['bedroom', 'bathroom', 'parking_space']\n",
    "for column in column_list:\n",
    "    # Create a distplot for the column\n",
    "    plt.figure(figsize=(14, 7))\n",
    "    sns.distplot(train[column])\n",
    "    plt.title(column)\n",
    "    plt.show()"
   ]
  },
  {
   "cell_type": "code",
   "execution_count": 314,
   "metadata": {},
   "outputs": [
    {
     "data": {
      "image/png": "[encoded data removed]",
      "text/plain": [
       "<Figure size 1008x504 with 1 Axes>"
      ]
     },
     "metadata": {},
     "output_type": "display_data"
    }
   ],
   "source": [
    "# Which state has the highest number of houses \n",
    "# Count the number of houses in each state\n",
    "house_counts_by_state = train['loc'].value_counts().reset_index()\n",
    "house_counts_by_state.columns = ['loc', 'count']\n",
    "house_counts_by_state = house_counts_by_state.sort_values(by='count', ascending=False)\n",
    "\n",
    "plt.figure(figsize=(14, 7))\n",
    "sns.barplot(x='loc', y='count', data=house_counts_by_state)\n",
    "plt.title('Number of Houses in Each State (Descending Order)')\n",
    "plt.xlabel('State')\n",
    "plt.ylabel('Number of Houses')\n",
    "plt.xticks(rotation=90)\n",
    "plt.show()\n"
   ]
  },
  {
   "cell_type": "code",
   "execution_count": 315,
   "metadata": {
    "scrolled": true
   },
   "outputs": [
    {
     "data": {
      "image/png": "[encoded data removed]",
      "text/plain": [
       "<Figure size 864x432 with 1 Axes>"
      ]
     },
     "metadata": {},
     "output_type": "display_data"
    }
   ],
   "source": [
    "# What is the average house price in each state?\n",
    "# Average House Price by State\n",
    "average_price_by_state = train.groupby('loc')['price'].mean().reset_index()\n",
    "average_price_by_state = average_price_by_state.sort_values(by='price', ascending=False)\n",
    "\n",
    "plt.figure(figsize=(12, 6))\n",
    "plt.bar(average_price_by_state['loc'], average_price_by_state['price'])\n",
    "plt.xlabel('State')\n",
    "plt.ylabel('Average House Price')\n",
    "plt.title('Average House Price in Each State (Ascending Order)')\n",
    "plt.xticks(rotation=90)\n",
    "plt.show()\n"
   ]
  },
  {
   "cell_type": "code",
   "execution_count": 316,
   "metadata": {
    "scrolled": true
   },
   "outputs": [
    {
     "data": {
      "image/png": "[encoded data removed]",
      "text/plain": [
       "<Figure size 864x432 with 1 Axes>"
      ]
     },
     "metadata": {},
     "output_type": "display_data"
    }
   ],
   "source": [
    "# Which state has the highest median house price?\n",
    "median_price_by_state = train.groupby('loc')['price'].median().reset_index()\n",
    "median_price_by_state = median_price_by_state.sort_values(by='price', ascending=False)\n",
    "\n",
    "plt.figure(figsize=(12, 6))\n",
    "plt.bar(median_price_by_state['loc'], median_price_by_state['price'])\n",
    "plt.xlabel('State')\n",
    "plt.ylabel('Median House Price')\n",
    "plt.title('Median House Price in Each State (Ascending Order)')\n",
    "plt.xticks(rotation=90)\n",
    "plt.tight_layout()\n",
    "plt.show()"
   ]
  },
  {
   "cell_type": "code",
   "execution_count": 317,
   "metadata": {},
   "outputs": [
    {
     "data": {
      "image/png": "[encoded data removed]",
      "text/plain": [
       "<Figure size 1152x576 with 1 Axes>"
      ]
     },
     "metadata": {},
     "output_type": "display_data"
    }
   ],
   "source": [
    "# scatter plot to visualize the relationship between 'bedroom' and 'price'\n",
    "plt.figure(figsize=(16,8))\n",
    "sns.scatterplot(x='bedroom', y='price', data=train)\n",
    "plt.xlabel('Number of Bedrooms')\n",
    "plt.ylabel('House Price')\n",
    "plt.title('Relationship between Number of Bedrooms and House Price')\n",
    "plt.show()"
   ]
  },
  {
   "cell_type": "code",
   "execution_count": 318,
   "metadata": {
    "scrolled": false
   },
   "outputs": [
    {
     "data": {
      "text/plain": [
       "Text(0.5, 1.0, 'Average Number of Bathrooms by House Type')"
      ]
     },
     "execution_count": 318,
     "metadata": {},
     "output_type": "execute_result"
    },
    {
     "data": {
      "image/png": "[encoded data removed]",
      "text/plain": [
       "<Figure size 864x432 with 1 Axes>"
      ]
     },
     "metadata": {},
     "output_type": "display_data"
    }
   ],
   "source": [
    "# Calculate the average number of bathrooms for each house type\n",
    "average_bathrooms_by_type = train.groupby('title')['bathroom'].mean().reset_index()\n",
    "\n",
    "# Sort the data by average number of bathrooms in descending order\n",
    "average_bathrooms_by_type = average_bathrooms_by_type.sort_values(by='bathroom', ascending=False)\n",
    "\n",
    "# Create a bar plot\n",
    "plt.figure(figsize=(12, 6))\n",
    "sns.barplot(x='bathroom', y='title', data=average_bathrooms_by_type, palette='viridis')\n",
    "plt.xlabel('Average Number of Bathrooms')\n",
    "plt.ylabel('House Type')\n",
    "plt.title('Average Number of Bathrooms by House Type')"
   ]
  },
  {
   "cell_type": "code",
   "execution_count": 319,
   "metadata": {
    "scrolled": true
   },
   "outputs": [
    {
     "data": {
      "image/png": "[encoded data removed]",
      "text/plain": [
       "<Figure size 720x432 with 1 Axes>"
      ]
     },
     "metadata": {},
     "output_type": "display_data"
    }
   ],
   "source": [
    "# Group by 'title' and calculate the average price for each house type\n",
    "average_price_by_house_type = train.groupby('title')['price'].mean().reset_index()\n",
    "\n",
    "# Sort the house types based on average price in descending order\n",
    "top_5_expensive_house_types = average_price_by_house_type.sort_values(by='price', ascending=False).head(5)\n",
    "\n",
    "plt.figure(figsize=(10, 6))\n",
    "plt.bar(top_5_expensive_house_types['title'], top_5_expensive_house_types['price'])\n",
    "plt.xlabel('House Type')\n",
    "plt.ylabel('Average Price')\n",
    "plt.title('Top 5 Most Expensive House Types')\n",
    "plt.xticks(rotation=45, ha='right')\n",
    "plt.tight_layout()\n",
    "plt.show()"
   ]
  },
  {
   "cell_type": "code",
   "execution_count": 320,
   "metadata": {},
   "outputs": [
    {
     "data": {
      "image/png": "[encoded data removed]",
      "text/plain": [
       "<Figure size 720x432 with 1 Axes>"
      ]
     },
     "metadata": {},
     "output_type": "display_data"
    }
   ],
   "source": [
    "# Calculate the average number of bedrooms for each house type\n",
    "average_bedrooms_by_type = train.groupby('title')['bedroom'].mean().reset_index()\n",
    "\n",
    "# Sort the data by average number of bedrooms in descending order\n",
    "average_bedrooms_by_type = average_bedrooms_by_type.sort_values(by='bedroom', ascending=False)\n",
    "\n",
    "# Create a bar plot to visualize average number of bedrooms by house type\n",
    "plt.figure(figsize=(10, 6))\n",
    "sns.barplot(x='title', y='bedroom', data=average_bedrooms_by_type, palette='viridis')\n",
    "plt.xlabel('House Type')\n",
    "plt.ylabel('Average Number of Bedrooms')\n",
    "plt.title('Average Number of Bedrooms by House Type')\n",
    "plt.xticks(rotation=90)  # Rotate x-axis labels for better readability\n",
    "plt.show()"
   ]
  },
  {
   "cell_type": "markdown",
   "metadata": {},
   "source": [
    "# Data Cleaning and Preprocessing"
   ]
  },
  {
   "cell_type": "code",
   "execution_count": 321,
   "metadata": {},
   "outputs": [],
   "source": [
    "# Drop rows with missing values in 'loc' and 'title' columns\n",
    "train = train.dropna(subset=['loc', 'title'])\n",
    "\n",
    "'''\n",
    "# Filling missing values for categorical columns with mode\n",
    "categorical_columns = ['loc', 'title']\n",
    "for col in categorical_columns:\n",
    "    train[col].fillna(train[col].mode()[0], inplace=True)\n",
    "'''\n",
    "\n",
    "# Filling missing values for positively skewed numeric columns with median\n",
    "skewed_numeric_columns = ['bedroom', 'bathroom', 'parking_space']\n",
    "for col in skewed_numeric_columns:\n",
    "    if train[col].skew() > 0:  # Check if the column is positively skewed\n",
    "        train[col].fillna(train[col].median(), inplace=True)\n",
    "    else:\n",
    "        train[col].fillna(train[col].mean(), inplace=True)  # For other columns, use the mean\n"
   ]
  },
  {
   "cell_type": "code",
   "execution_count": 322,
   "metadata": {},
   "outputs": [
    {
     "data": {
      "text/plain": [
       "(10531, 7)"
      ]
     },
     "execution_count": 322,
     "metadata": {},
     "output_type": "execute_result"
    }
   ],
   "source": [
    "train.shape"
   ]
  },
  {
   "cell_type": "code",
   "execution_count": 323,
   "metadata": {},
   "outputs": [],
   "source": [
    "\n",
    "# Calculate the 5th and 95th percentiles of the 'price' column\n",
    "price_lower_bound = train['price'].quantile(0.05)\n",
    "price_upper_bound = train['price'].quantile(0.95)\n",
    "\n",
    "# Apply Winsorization to cap extreme values at the 5th and 95th percentiles\n",
    "train['price'] = np.clip(train['price'], price_lower_bound, price_upper_bound)\n",
    "\n"
   ]
  },
  {
   "cell_type": "code",
   "execution_count": 324,
   "metadata": {
    "scrolled": true
   },
   "outputs": [
    {
     "name": "stderr",
     "output_type": "stream",
     "text": [
      "C:\\Users\\RIDWAN\\Anaconda3\\lib\\site-packages\\seaborn\\_decorators.py:36: FutureWarning: Pass the following variable as a keyword arg: x. From version 0.12, the only valid positional argument will be `data`, and passing other arguments without an explicit keyword will result in an error or misinterpretation.\n",
      "  warnings.warn(\n"
     ]
    },
    {
     "data": {
      "image/png": "[encoded data removed]",
      "text/plain": [
       "<Figure size 936x504 with 1 Axes>"
      ]
     },
     "metadata": {},
     "output_type": "display_data"
    }
   ],
   "source": [
    "# Plotting boxplot for the price to check for outliers\n",
    "sns.set_style('darkgrid')\n",
    "plt.figure(figsize = (13, 7))\n",
    "sns.boxplot(train.price)\n",
    "plt.title('Boxplot showing CO2 emission outliers', y = 1.02, fontsize = 15)  \n",
    "plt.show()"
   ]
  },
  {
   "cell_type": "code",
   "execution_count": 325,
   "metadata": {
    "scrolled": true
   },
   "outputs": [
    {
     "data": {
      "text/plain": [
       "Index(['ID', 'loc', 'title', 'bedroom', 'bathroom', 'parking_space', 'price'], dtype='object')"
      ]
     },
     "execution_count": 325,
     "metadata": {},
     "output_type": "execute_result"
    }
   ],
   "source": [
    "train.columns"
   ]
  },
  {
   "cell_type": "code",
   "execution_count": 326,
   "metadata": {
    "colab": {
     "base_uri": "https://localhost:8080/",
     "height": 892
    },
    "id": "WK8BIGqfUKLK",
    "outputId": "c856ee89-44e5-4e3d-9088-651ce4b3e615",
    "scrolled": false
   },
   "outputs": [
    {
     "data": {
      "text/plain": [
       "array(['Katsina', 'Ondo', 'Anambra', 'Kogi', 'Borno', 'Kwara', 'Osun',\n",
       "       'Kaduna', 'Ogun', 'Bayelsa', 'Abia', 'Rivers', 'Taraba', 'Ebonyi',\n",
       "       'Kebbi', 'Enugu', 'Edo', 'Nasarawa', 'Kano', 'Delta', 'Yobe',\n",
       "       'Benue', 'Bauchi', 'Cross River', 'Niger', 'Adamawa', 'Plateau',\n",
       "       'Imo', 'Oyo', 'Zamfara', 'Sokoto', 'Jigawa', 'Gombe', 'Lagos',\n",
       "       'Akwa Ibom', 'Ekiti'], dtype=object)"
      ]
     },
     "execution_count": 326,
     "metadata": {},
     "output_type": "execute_result"
    }
   ],
   "source": [
    "train['loc'].unique()"
   ]
  },
  {
   "cell_type": "code",
   "execution_count": 327,
   "metadata": {
    "id": "2Z_uC2RLUKLH",
    "scrolled": false
   },
   "outputs": [
    {
     "data": {
      "text/plain": [
       "array(['Semi-detached duplex', 'Apartment', 'Detached duplex',\n",
       "       'Terrace duplex', 'Mansion', 'Bungalow', 'Penthouse', 'Townhouse',\n",
       "       'Flat', 'Cottage'], dtype=object)"
      ]
     },
     "execution_count": 327,
     "metadata": {},
     "output_type": "execute_result"
    }
   ],
   "source": [
    "train.title.unique()"
   ]
  },
  {
   "cell_type": "code",
   "execution_count": 328,
   "metadata": {},
   "outputs": [],
   "source": [
    "# convert the 'bedroom', bathroom, parking_space to int\n",
    "train[\"bedroom\"] = train[\"bedroom\"].astype(int)\n",
    "train[\"bathroom\"] = train[\"bathroom\"].astype(int)\n",
    "train[\"parking_space\"] = train[\"parking_space\"].astype(int)\n",
    "\n",
    "\n",
    "test[\"bedroom\"] = test[\"bedroom\"].astype(int)\n",
    "test[\"bathroom\"] = test[\"bathroom\"].astype(int)\n",
    "test[\"parking_space\"] = test[\"parking_space\"].astype(int)\n",
    "     "
   ]
  },
  {
   "cell_type": "code",
   "execution_count": 329,
   "metadata": {},
   "outputs": [],
   "source": [
    "def create_features(df):\n",
    "    # Create 'total_rooms' feature by adding 'bedroom' and 'bathroom' columns\n",
    "    df['total_rooms'] = df['bedroom'] + df['bathroom']\n",
    "\n",
    "    # Create 'bedroom_bathroom_ratio' feature based on the condition\n",
    "    df['bedroom_bathroom_ratio'] = np.where(df['bathroom'] > df['bedroom'], 1,\n",
    "                                            np.where(df['bathroom'] < df['bedroom'], 2, 3))\n",
    "    # 1 = less rooms, 2 = more rooms, 3 = equal rooms\n",
    "\n",
    "    # Create 'bathroom_type' feature based on the condition\n",
    "    df['bathroom_type'] = np.where(df['bathroom'] == 1, 1,\n",
    "                                   np.where(df['bathroom'] == df['bedroom'], 2, 3))\n",
    "    # 1 = single, 2 = master, 3 = shared\n",
    "\n",
    "    # Define the bins and labels for the bedroom groups\n",
    "    bins = [0, 2, 4, np.inf]\n",
    "    labels = ['1', '2', '3']  # 1 = 0-2 bedrooms, 2 = 3-4 bedrooms, 3 = 5+ bedrooms\n",
    "\n",
    "    # Create 'bedroom_group' feature, calculate 'total_amenities', and drop the original 'bedroom' column\n",
    "    df['bedroom_group'] = pd.cut(df['bedroom'], bins=bins, labels=labels, right=False).astype(float)\n",
    "\n",
    "    return df"
   ]
  },
  {
   "cell_type": "code",
   "execution_count": 330,
   "metadata": {},
   "outputs": [],
   "source": [
    "train = create_features(train)\n",
    "test = create_features(test)"
   ]
  },
  {
   "cell_type": "code",
   "execution_count": 331,
   "metadata": {},
   "outputs": [],
   "source": [
    "# Define the mapping of states to regions\n",
    "state_to_region = {\n",
    "    'Katsina': 'North-west',\n",
    "    'Ondo': 'South-west',\n",
    "    'Ekiti': 'South-west',\n",
    "    'Anambra': 'South-east',\n",
    "    'Kogi': 'North-central',\n",
    "    'Borno': 'North-east',\n",
    "    'Kwara': 'North-central',\n",
    "    'Osun': 'South-west',\n",
    "    'Kaduna': 'North-west',\n",
    "    'Ogun': 'South-west',\n",
    "    'Bayelsa': 'South-south',\n",
    "    'Abia': 'South-east',\n",
    "    'Rivers': 'South-south',\n",
    "    'Taraba': 'North-east',\n",
    "    'Ebonyi': 'South-east',\n",
    "    'Kebbi': 'North-west',\n",
    "    'Enugu': 'South-east',\n",
    "    'Edo': 'South-south',\n",
    "    'Nasarawa': 'North-central',\n",
    "    'Delta': 'South-south',\n",
    "    'Kano': 'North-west',\n",
    "    'Yobe': 'North-east',\n",
    "    'Benue': 'North-central',\n",
    "    'Bauchi': 'North-east',\n",
    "    'Cross River': 'South-south',\n",
    "    'Niger': 'North-central',\n",
    "    'Adamawa': 'North-east',\n",
    "    'Plateau': 'North-central',\n",
    "    'Imo': 'South-east',\n",
    "    'Oyo': 'South-west',\n",
    "    'Zamfara': 'North-west',\n",
    "    'Sokoto': 'North-west',\n",
    "    'Jigawa': 'North-west',\n",
    "    'Gombe': 'North-east',\n",
    "    'Akwa Ibom': 'South-south',\n",
    "    'Lagos': 'South-west'\n",
    "}\n",
    "\n",
    "# Create a new column 'region' by mapping 'loc' column to regions using the state_to_region mapping\n",
    "train['region'] = train['loc'].map(state_to_region)\n",
    "test['region'] = test['loc'].map(state_to_region)"
   ]
  },
  {
   "cell_type": "code",
   "execution_count": 332,
   "metadata": {},
   "outputs": [
    {
     "data": {
      "text/plain": [
       "6"
      ]
     },
     "execution_count": 332,
     "metadata": {},
     "output_type": "execute_result"
    }
   ],
   "source": [
    "train.region.nunique()"
   ]
  },
  {
   "cell_type": "code",
   "execution_count": 333,
   "metadata": {
    "scrolled": false
   },
   "outputs": [
    {
     "data": {
      "text/plain": [
       "{'Mansion': 1,\n",
       " 'Penthouse': 2,\n",
       " 'Detached duplex': 3,\n",
       " 'Townhouse': 4,\n",
       " 'Terrace duplex': 5,\n",
       " 'Semi-detached duplex': 6,\n",
       " 'Bungalow': 7,\n",
       " 'Flat': 8,\n",
       " 'Apartment': 9,\n",
       " 'Cottage': 10}"
      ]
     },
     "execution_count": 333,
     "metadata": {},
     "output_type": "execute_result"
    }
   ],
   "source": [
    "# Calculate the mean price for each house type\n",
    "house_type_mean_price = train.groupby('title')['price'].mean().sort_values(ascending=False)\n",
    "\n",
    "# Create a dictionary to map each house type to its rank based on mean price\n",
    "house_type_rank = {house_type: rank for rank, house_type in enumerate(house_type_mean_price.index, 1)}\n",
    "house_type_rank"
   ]
  },
  {
   "cell_type": "code",
   "execution_count": 334,
   "metadata": {},
   "outputs": [],
   "source": [
    "# Convert the 'title' column to a categorical data type using the mapping\n",
    "train['title'] = train['title'].map(house_type_rank)\n",
    "test['title'] = test['title'].map(house_type_rank)"
   ]
  },
  {
   "cell_type": "code",
   "execution_count": 335,
   "metadata": {},
   "outputs": [],
   "source": [
    "'''\n",
    "# Perform one-hot encoding using get_dummies\n",
    "train = pd.get_dummies(train, columns=['loc'], drop_first=True)\n",
    "test = pd.get_dummies(test, columns=['loc'], drop_first=True)\n",
    "\n",
    "train = pd.get_dummies(train, columns=['region'], drop_first=True)\n",
    "test = pd.get_dummies(test, columns=['region'], drop_first=True)\n",
    "'''\n",
    "\n",
    "# Initialize LabelEncoder\n",
    "label_encoder = LabelEncoder()\n",
    "\n",
    "# Encode 'loc' and 'region' columns in the train and test DataFrames\n",
    "train['loc'] = label_encoder.fit_transform(train['loc'])\n",
    "test['loc'] = label_encoder.transform(test['loc'])\n",
    "\n",
    "train['region'] = label_encoder.fit_transform(train['region'])\n",
    "test['region'] = label_encoder.transform(test['region'])\n",
    "\n"
   ]
  },
  {
   "cell_type": "markdown",
   "metadata": {},
   "source": [
    "# Model Development and Evaluation"
   ]
  },
  {
   "cell_type": "code",
   "execution_count": 336,
   "metadata": {
    "colab": {
     "base_uri": "https://localhost:8080/",
     "height": 424
    },
    "id": "TQrdy7OFUKLO",
    "outputId": "c933f617-af7b-48b1-f9c9-5422924d76e9"
   },
   "outputs": [],
   "source": [
    "X = train.drop(['ID','price'], axis=1)\n",
    "y = train['price']\n",
    "\n",
    "test.drop(columns=[\"ID\"], inplace=True)"
   ]
  },
  {
   "cell_type": "code",
   "execution_count": 337,
   "metadata": {},
   "outputs": [],
   "source": [
    "X_train,X_test, y_train, y_test = train_test_split(X, y, train_size=0.2, random_state=42)"
   ]
  },
  {
   "cell_type": "code",
   "execution_count": 338,
   "metadata": {
    "colab": {
     "base_uri": "https://localhost:8080/"
    },
    "id": "qt0SNpXvVha3",
    "outputId": "2d83c3b9-1b50-4660-ffa1-8d5f503bc8f2"
   },
   "outputs": [
    {
     "name": "stdout",
     "output_type": "stream",
     "text": [
      "Learning rate set to 0.046056\n",
      "0:\tlearn: 854138.0457312\ttotal: 2.72ms\tremaining: 2.71s\n",
      "1:\tlearn: 829067.3213577\ttotal: 5ms\tremaining: 2.5s\n",
      "2:\tlearn: 806661.4315361\ttotal: 7.42ms\tremaining: 2.47s\n",
      "3:\tlearn: 783830.4443377\ttotal: 9.68ms\tremaining: 2.41s\n",
      "4:\tlearn: 761827.3806253\ttotal: 11.9ms\tremaining: 2.37s\n",
      "5:\tlearn: 743412.4485418\ttotal: 14.5ms\tremaining: 2.4s\n",
      "6:\tlearn: 723508.3898614\ttotal: 17.1ms\tremaining: 2.42s\n",
      "7:\tlearn: 706733.1692217\ttotal: 19.4ms\tremaining: 2.41s\n",
      "8:\tlearn: 689609.3467845\ttotal: 21.6ms\tremaining: 2.38s\n",
      "9:\tlearn: 673431.7602571\ttotal: 23.9ms\tremaining: 2.36s\n",
      "10:\tlearn: 657192.0201793\ttotal: 26.2ms\tremaining: 2.36s\n",
      "11:\tlearn: 641500.0197711\ttotal: 28.2ms\tremaining: 2.33s\n",
      "12:\tlearn: 627804.5888088\ttotal: 30.5ms\tremaining: 2.31s\n",
      "13:\tlearn: 614164.9700162\ttotal: 32.4ms\tremaining: 2.28s\n",
      "14:\tlearn: 600404.3875357\ttotal: 34.6ms\tremaining: 2.27s\n",
      "15:\tlearn: 587568.3975338\ttotal: 36.7ms\tremaining: 2.26s\n",
      "16:\tlearn: 575351.4680170\ttotal: 39.1ms\tremaining: 2.26s\n",
      "17:\tlearn: 565244.8450520\ttotal: 41.6ms\tremaining: 2.27s\n",
      "18:\tlearn: 556170.0535089\ttotal: 43.9ms\tremaining: 2.27s\n",
      "19:\tlearn: 545582.7815882\ttotal: 46.2ms\tremaining: 2.27s\n",
      "20:\tlearn: 537348.4711582\ttotal: 48.5ms\tremaining: 2.26s\n",
      "21:\tlearn: 528434.8459540\ttotal: 50.8ms\tremaining: 2.26s\n",
      "22:\tlearn: 520285.0628915\ttotal: 53.1ms\tremaining: 2.26s\n",
      "23:\tlearn: 512816.9967358\ttotal: 55.4ms\tremaining: 2.25s\n",
      "24:\tlearn: 505915.9177385\ttotal: 57.6ms\tremaining: 2.25s\n",
      "25:\tlearn: 499448.7919616\ttotal: 60ms\tremaining: 2.25s\n",
      "26:\tlearn: 492759.3206586\ttotal: 62.5ms\tremaining: 2.25s\n",
      "27:\tlearn: 486726.7936859\ttotal: 64.8ms\tremaining: 2.25s\n",
      "28:\tlearn: 480853.3991024\ttotal: 67.2ms\tremaining: 2.25s\n",
      "29:\tlearn: 476099.9498600\ttotal: 69.2ms\tremaining: 2.24s\n",
      "30:\tlearn: 471274.3270361\ttotal: 71.5ms\tremaining: 2.23s\n",
      "31:\tlearn: 466771.9135811\ttotal: 73.9ms\tremaining: 2.23s\n",
      "32:\tlearn: 460049.9906684\ttotal: 76.3ms\tremaining: 2.24s\n",
      "33:\tlearn: 455986.1959098\ttotal: 78.5ms\tremaining: 2.23s\n",
      "34:\tlearn: 451951.9016199\ttotal: 81ms\tremaining: 2.23s\n",
      "35:\tlearn: 446457.1547664\ttotal: 83.3ms\tremaining: 2.23s\n",
      "36:\tlearn: 442584.0610884\ttotal: 85.8ms\tremaining: 2.23s\n",
      "37:\tlearn: 438750.0453817\ttotal: 87.9ms\tremaining: 2.23s\n",
      "38:\tlearn: 432943.7153168\ttotal: 90.3ms\tremaining: 2.22s\n",
      "39:\tlearn: 429456.2805342\ttotal: 92.6ms\tremaining: 2.22s\n",
      "40:\tlearn: 426223.0662362\ttotal: 95.1ms\tremaining: 2.22s\n",
      "41:\tlearn: 423655.1408449\ttotal: 97.4ms\tremaining: 2.22s\n",
      "42:\tlearn: 420723.6971597\ttotal: 99.6ms\tremaining: 2.22s\n",
      "43:\tlearn: 418479.9501058\ttotal: 102ms\tremaining: 2.21s\n",
      "44:\tlearn: 415962.0958550\ttotal: 104ms\tremaining: 2.21s\n",
      "45:\tlearn: 413563.8911188\ttotal: 107ms\tremaining: 2.21s\n",
      "46:\tlearn: 411480.0186339\ttotal: 109ms\tremaining: 2.21s\n",
      "47:\tlearn: 409534.7430899\ttotal: 111ms\tremaining: 2.21s\n",
      "48:\tlearn: 407423.9192479\ttotal: 114ms\tremaining: 2.2s\n",
      "49:\tlearn: 405534.6154640\ttotal: 116ms\tremaining: 2.2s\n",
      "50:\tlearn: 404096.5939428\ttotal: 118ms\tremaining: 2.2s\n",
      "51:\tlearn: 402197.7171303\ttotal: 121ms\tremaining: 2.2s\n",
      "52:\tlearn: 400282.4008655\ttotal: 123ms\tremaining: 2.2s\n",
      "53:\tlearn: 398086.6729620\ttotal: 125ms\tremaining: 2.2s\n",
      "54:\tlearn: 396794.7133508\ttotal: 128ms\tremaining: 2.19s\n",
      "55:\tlearn: 395530.8504228\ttotal: 130ms\tremaining: 2.19s\n",
      "56:\tlearn: 394451.8344348\ttotal: 132ms\tremaining: 2.19s\n",
      "57:\tlearn: 393247.2222149\ttotal: 135ms\tremaining: 2.19s\n",
      "58:\tlearn: 392244.6190996\ttotal: 137ms\tremaining: 2.19s\n",
      "59:\tlearn: 391340.2179789\ttotal: 139ms\tremaining: 2.18s\n",
      "60:\tlearn: 388511.8978054\ttotal: 141ms\tremaining: 2.17s\n",
      "61:\tlearn: 387193.3961332\ttotal: 144ms\tremaining: 2.17s\n",
      "62:\tlearn: 384269.2261359\ttotal: 146ms\tremaining: 2.17s\n",
      "63:\tlearn: 383232.6908779\ttotal: 148ms\tremaining: 2.17s\n",
      "64:\tlearn: 382150.3842991\ttotal: 151ms\tremaining: 2.17s\n",
      "65:\tlearn: 378802.5504751\ttotal: 153ms\tremaining: 2.17s\n",
      "66:\tlearn: 377253.6763438\ttotal: 156ms\tremaining: 2.17s\n",
      "67:\tlearn: 376338.0354009\ttotal: 158ms\tremaining: 2.17s\n",
      "68:\tlearn: 375519.2087442\ttotal: 161ms\tremaining: 2.17s\n",
      "69:\tlearn: 374731.2229839\ttotal: 164ms\tremaining: 2.17s\n",
      "70:\tlearn: 374057.5933191\ttotal: 166ms\tremaining: 2.17s\n",
      "71:\tlearn: 372616.2222216\ttotal: 168ms\tremaining: 2.17s\n",
      "72:\tlearn: 371603.3097037\ttotal: 170ms\tremaining: 2.16s\n",
      "73:\tlearn: 370335.0255366\ttotal: 173ms\tremaining: 2.16s\n",
      "74:\tlearn: 368864.8951860\ttotal: 175ms\tremaining: 2.16s\n",
      "75:\tlearn: 368173.0418800\ttotal: 178ms\tremaining: 2.17s\n",
      "76:\tlearn: 366449.2196473\ttotal: 181ms\tremaining: 2.17s\n",
      "77:\tlearn: 366194.1904667\ttotal: 182ms\tremaining: 2.16s\n",
      "78:\tlearn: 364212.3343370\ttotal: 185ms\tremaining: 2.15s\n",
      "79:\tlearn: 361692.1291076\ttotal: 187ms\tremaining: 2.15s\n",
      "80:\tlearn: 361165.0663189\ttotal: 190ms\tremaining: 2.15s\n",
      "81:\tlearn: 360853.2882213\ttotal: 192ms\tremaining: 2.15s\n",
      "82:\tlearn: 359266.0152489\ttotal: 194ms\tremaining: 2.15s\n",
      "83:\tlearn: 357115.5525497\ttotal: 197ms\tremaining: 2.15s\n",
      "84:\tlearn: 355362.9036990\ttotal: 199ms\tremaining: 2.14s\n",
      "85:\tlearn: 354614.2409715\ttotal: 202ms\tremaining: 2.14s\n",
      "86:\tlearn: 353624.6376525\ttotal: 204ms\tremaining: 2.14s\n",
      "87:\tlearn: 353175.9315563\ttotal: 206ms\tremaining: 2.14s\n",
      "88:\tlearn: 352994.8142828\ttotal: 208ms\tremaining: 2.13s\n",
      "89:\tlearn: 352509.0269144\ttotal: 210ms\tremaining: 2.12s\n",
      "90:\tlearn: 351874.1820155\ttotal: 212ms\tremaining: 2.12s\n",
      "91:\tlearn: 349719.8004413\ttotal: 214ms\tremaining: 2.11s\n",
      "92:\tlearn: 349005.1621316\ttotal: 216ms\tremaining: 2.11s\n",
      "93:\tlearn: 348446.0628042\ttotal: 218ms\tremaining: 2.1s\n",
      "94:\tlearn: 347698.0719199\ttotal: 220ms\tremaining: 2.1s\n",
      "95:\tlearn: 346987.7822139\ttotal: 223ms\tremaining: 2.1s\n",
      "96:\tlearn: 346178.0820751\ttotal: 225ms\tremaining: 2.09s\n",
      "97:\tlearn: 344311.9209228\ttotal: 227ms\tremaining: 2.09s\n",
      "98:\tlearn: 342393.6805279\ttotal: 229ms\tremaining: 2.08s\n",
      "99:\tlearn: 341588.6565043\ttotal: 231ms\tremaining: 2.08s\n",
      "100:\tlearn: 340166.8577569\ttotal: 233ms\tremaining: 2.08s\n",
      "101:\tlearn: 339709.0753018\ttotal: 235ms\tremaining: 2.07s\n",
      "102:\tlearn: 339213.3481464\ttotal: 237ms\tremaining: 2.07s\n",
      "103:\tlearn: 337414.2799229\ttotal: 239ms\tremaining: 2.06s\n",
      "104:\tlearn: 336686.2421244\ttotal: 241ms\tremaining: 2.06s\n",
      "105:\tlearn: 336419.2228128\ttotal: 244ms\tremaining: 2.05s\n",
      "106:\tlearn: 334995.6544360\ttotal: 246ms\tremaining: 2.05s\n",
      "107:\tlearn: 334378.8081732\ttotal: 248ms\tremaining: 2.04s\n",
      "108:\tlearn: 333078.5804672\ttotal: 250ms\tremaining: 2.04s\n",
      "109:\tlearn: 332694.7175318\ttotal: 252ms\tremaining: 2.04s\n",
      "110:\tlearn: 331677.0810924\ttotal: 253ms\tremaining: 2.03s\n",
      "111:\tlearn: 331016.9756926\ttotal: 255ms\tremaining: 2.02s\n",
      "112:\tlearn: 330562.2337731\ttotal: 257ms\tremaining: 2.02s\n",
      "113:\tlearn: 330509.6382172\ttotal: 258ms\tremaining: 2s\n",
      "114:\tlearn: 329408.9452407\ttotal: 259ms\tremaining: 1.99s\n",
      "115:\tlearn: 329093.8884188\ttotal: 260ms\tremaining: 1.98s\n",
      "116:\tlearn: 328813.9445590\ttotal: 261ms\tremaining: 1.97s\n",
      "117:\tlearn: 327617.9266282\ttotal: 263ms\tremaining: 1.96s\n",
      "118:\tlearn: 327132.5482665\ttotal: 264ms\tremaining: 1.95s\n",
      "119:\tlearn: 326418.0792321\ttotal: 265ms\tremaining: 1.94s\n",
      "120:\tlearn: 325562.3527038\ttotal: 266ms\tremaining: 1.93s\n",
      "121:\tlearn: 324681.4674435\ttotal: 267ms\tremaining: 1.92s\n",
      "122:\tlearn: 324445.8741569\ttotal: 269ms\tremaining: 1.92s\n",
      "123:\tlearn: 324059.4828634\ttotal: 270ms\tremaining: 1.91s\n",
      "124:\tlearn: 323689.2317707\ttotal: 271ms\tremaining: 1.9s\n",
      "125:\tlearn: 323439.3364916\ttotal: 272ms\tremaining: 1.89s\n",
      "126:\tlearn: 322226.6795716\ttotal: 273ms\tremaining: 1.88s\n",
      "127:\tlearn: 321219.0443936\ttotal: 274ms\tremaining: 1.87s\n",
      "128:\tlearn: 320344.0664125\ttotal: 275ms\tremaining: 1.86s\n",
      "129:\tlearn: 319690.7296976\ttotal: 276ms\tremaining: 1.85s\n",
      "130:\tlearn: 319398.2882125\ttotal: 277ms\tremaining: 1.84s\n",
      "131:\tlearn: 318866.1393676\ttotal: 278ms\tremaining: 1.83s\n",
      "132:\tlearn: 318116.6374725\ttotal: 280ms\tremaining: 1.82s\n",
      "133:\tlearn: 317992.4992819\ttotal: 281ms\tremaining: 1.81s\n",
      "134:\tlearn: 317709.1098423\ttotal: 282ms\tremaining: 1.81s\n",
      "135:\tlearn: 317601.0888666\ttotal: 283ms\tremaining: 1.8s\n",
      "136:\tlearn: 317354.8801922\ttotal: 284ms\tremaining: 1.79s\n",
      "137:\tlearn: 316487.4700979\ttotal: 285ms\tremaining: 1.78s\n",
      "138:\tlearn: 315805.8508054\ttotal: 286ms\tremaining: 1.77s\n",
      "139:\tlearn: 315120.9476901\ttotal: 288ms\tremaining: 1.77s\n",
      "140:\tlearn: 314923.6533898\ttotal: 289ms\tremaining: 1.76s\n",
      "141:\tlearn: 314427.0122733\ttotal: 290ms\tremaining: 1.75s\n",
      "142:\tlearn: 313571.7310219\ttotal: 291ms\tremaining: 1.74s\n",
      "143:\tlearn: 312848.6134777\ttotal: 292ms\tremaining: 1.74s\n",
      "144:\tlearn: 311968.3747920\ttotal: 293ms\tremaining: 1.73s\n",
      "145:\tlearn: 311278.4217983\ttotal: 295ms\tremaining: 1.72s\n",
      "146:\tlearn: 310887.6397439\ttotal: 296ms\tremaining: 1.71s\n",
      "147:\tlearn: 309921.6604612\ttotal: 297ms\tremaining: 1.71s\n",
      "148:\tlearn: 309798.7803676\ttotal: 298ms\tremaining: 1.7s\n",
      "149:\tlearn: 309217.5416822\ttotal: 299ms\tremaining: 1.69s\n",
      "150:\tlearn: 308886.5804479\ttotal: 300ms\tremaining: 1.69s\n",
      "151:\tlearn: 308523.2750001\ttotal: 301ms\tremaining: 1.68s\n",
      "152:\tlearn: 308182.1703943\ttotal: 302ms\tremaining: 1.67s\n",
      "153:\tlearn: 307643.2153045\ttotal: 304ms\tremaining: 1.67s\n",
      "154:\tlearn: 307102.9896271\ttotal: 305ms\tremaining: 1.66s\n",
      "155:\tlearn: 306291.4975857\ttotal: 306ms\tremaining: 1.65s\n",
      "156:\tlearn: 305866.1801504\ttotal: 307ms\tremaining: 1.65s\n",
      "157:\tlearn: 305410.0697158\ttotal: 308ms\tremaining: 1.64s\n",
      "158:\tlearn: 305256.8036745\ttotal: 310ms\tremaining: 1.64s\n",
      "159:\tlearn: 305006.6851862\ttotal: 311ms\tremaining: 1.63s\n",
      "160:\tlearn: 304754.8437417\ttotal: 312ms\tremaining: 1.63s\n",
      "161:\tlearn: 304247.2257351\ttotal: 313ms\tremaining: 1.62s\n",
      "162:\tlearn: 303978.5392937\ttotal: 314ms\tremaining: 1.61s\n",
      "163:\tlearn: 303667.9409898\ttotal: 316ms\tremaining: 1.61s\n",
      "164:\tlearn: 303301.8400458\ttotal: 317ms\tremaining: 1.6s\n",
      "165:\tlearn: 302970.1546523\ttotal: 318ms\tremaining: 1.6s\n",
      "166:\tlearn: 302680.5662000\ttotal: 319ms\tremaining: 1.59s\n",
      "167:\tlearn: 302356.6040772\ttotal: 320ms\tremaining: 1.58s\n",
      "168:\tlearn: 301976.3013237\ttotal: 321ms\tremaining: 1.58s\n",
      "169:\tlearn: 301289.9187791\ttotal: 322ms\tremaining: 1.57s\n",
      "170:\tlearn: 300963.0119718\ttotal: 324ms\tremaining: 1.57s\n",
      "171:\tlearn: 300785.0997305\ttotal: 325ms\tremaining: 1.56s\n",
      "172:\tlearn: 300269.2794853\ttotal: 326ms\tremaining: 1.56s\n",
      "173:\tlearn: 299926.8540939\ttotal: 327ms\tremaining: 1.55s\n",
      "174:\tlearn: 299681.7710080\ttotal: 328ms\tremaining: 1.55s\n",
      "175:\tlearn: 299451.0960085\ttotal: 329ms\tremaining: 1.54s\n",
      "176:\tlearn: 299100.6343580\ttotal: 330ms\tremaining: 1.54s\n",
      "177:\tlearn: 298365.3648462\ttotal: 332ms\tremaining: 1.53s\n",
      "178:\tlearn: 297861.0610663\ttotal: 333ms\tremaining: 1.53s\n",
      "179:\tlearn: 297567.6808735\ttotal: 334ms\tremaining: 1.52s\n",
      "180:\tlearn: 297164.0651495\ttotal: 335ms\tremaining: 1.52s\n",
      "181:\tlearn: 296666.1199520\ttotal: 336ms\tremaining: 1.51s\n",
      "182:\tlearn: 296190.0994620\ttotal: 337ms\tremaining: 1.51s\n",
      "183:\tlearn: 295979.5296219\ttotal: 339ms\tremaining: 1.5s\n",
      "184:\tlearn: 295411.3700795\ttotal: 340ms\tremaining: 1.5s\n",
      "185:\tlearn: 294993.5133746\ttotal: 341ms\tremaining: 1.49s\n",
      "186:\tlearn: 294844.6525755\ttotal: 342ms\tremaining: 1.49s\n",
      "187:\tlearn: 294640.2711446\ttotal: 343ms\tremaining: 1.48s\n",
      "188:\tlearn: 294125.0273661\ttotal: 344ms\tremaining: 1.48s\n",
      "189:\tlearn: 293792.9874990\ttotal: 345ms\tremaining: 1.47s\n",
      "190:\tlearn: 293512.8227960\ttotal: 347ms\tremaining: 1.47s\n",
      "191:\tlearn: 293017.0753000\ttotal: 348ms\tremaining: 1.46s\n",
      "192:\tlearn: 292763.5336988\ttotal: 349ms\tremaining: 1.46s\n",
      "193:\tlearn: 292295.4117879\ttotal: 350ms\tremaining: 1.45s\n",
      "194:\tlearn: 292006.0011385\ttotal: 351ms\tremaining: 1.45s\n",
      "195:\tlearn: 291639.5544269\ttotal: 352ms\tremaining: 1.44s\n",
      "196:\tlearn: 291466.1416465\ttotal: 353ms\tremaining: 1.44s\n",
      "197:\tlearn: 291044.0219180\ttotal: 354ms\tremaining: 1.43s\n",
      "198:\tlearn: 290899.0969589\ttotal: 355ms\tremaining: 1.43s\n",
      "199:\tlearn: 290474.3707960\ttotal: 357ms\tremaining: 1.43s\n",
      "200:\tlearn: 289936.6052040\ttotal: 358ms\tremaining: 1.42s\n",
      "201:\tlearn: 289572.6917391\ttotal: 359ms\tremaining: 1.42s\n",
      "202:\tlearn: 289113.6848910\ttotal: 360ms\tremaining: 1.41s\n",
      "203:\tlearn: 288773.7638568\ttotal: 361ms\tremaining: 1.41s\n",
      "204:\tlearn: 288068.4438687\ttotal: 363ms\tremaining: 1.41s\n",
      "205:\tlearn: 287696.9486201\ttotal: 364ms\tremaining: 1.4s\n",
      "206:\tlearn: 287307.3778222\ttotal: 365ms\tremaining: 1.4s\n",
      "207:\tlearn: 287126.7197386\ttotal: 366ms\tremaining: 1.39s\n",
      "208:\tlearn: 286708.4762093\ttotal: 367ms\tremaining: 1.39s\n",
      "209:\tlearn: 286542.9111503\ttotal: 368ms\tremaining: 1.38s\n",
      "210:\tlearn: 286141.5374131\ttotal: 369ms\tremaining: 1.38s\n",
      "211:\tlearn: 285974.9852058\ttotal: 371ms\tremaining: 1.38s\n",
      "212:\tlearn: 285631.8885664\ttotal: 372ms\tremaining: 1.37s\n",
      "213:\tlearn: 285260.5073075\ttotal: 373ms\tremaining: 1.37s\n",
      "214:\tlearn: 285000.9416095\ttotal: 374ms\tremaining: 1.36s\n",
      "215:\tlearn: 284755.0591821\ttotal: 375ms\tremaining: 1.36s\n"
     ]
    },
    {
     "name": "stdout",
     "output_type": "stream",
     "text": [
      "216:\tlearn: 284495.9995820\ttotal: 377ms\tremaining: 1.36s\n",
      "217:\tlearn: 284212.8312442\ttotal: 378ms\tremaining: 1.36s\n",
      "218:\tlearn: 283818.0504761\ttotal: 380ms\tremaining: 1.35s\n",
      "219:\tlearn: 283554.4178416\ttotal: 381ms\tremaining: 1.35s\n",
      "220:\tlearn: 283346.7261800\ttotal: 382ms\tremaining: 1.35s\n",
      "221:\tlearn: 282996.0001333\ttotal: 383ms\tremaining: 1.34s\n",
      "222:\tlearn: 282815.6929680\ttotal: 384ms\tremaining: 1.34s\n",
      "223:\tlearn: 282486.3465566\ttotal: 386ms\tremaining: 1.34s\n",
      "224:\tlearn: 281908.1160823\ttotal: 387ms\tremaining: 1.33s\n",
      "225:\tlearn: 281749.8245730\ttotal: 388ms\tremaining: 1.33s\n",
      "226:\tlearn: 281176.8174516\ttotal: 389ms\tremaining: 1.33s\n",
      "227:\tlearn: 280874.1645519\ttotal: 391ms\tremaining: 1.32s\n",
      "228:\tlearn: 280621.8503377\ttotal: 392ms\tremaining: 1.32s\n",
      "229:\tlearn: 280321.7116896\ttotal: 393ms\tremaining: 1.31s\n",
      "230:\tlearn: 280178.1796133\ttotal: 394ms\tremaining: 1.31s\n",
      "231:\tlearn: 279832.9869211\ttotal: 395ms\tremaining: 1.31s\n",
      "232:\tlearn: 279645.7283650\ttotal: 397ms\tremaining: 1.31s\n",
      "233:\tlearn: 279149.4426748\ttotal: 398ms\tremaining: 1.3s\n",
      "234:\tlearn: 278754.4763882\ttotal: 400ms\tremaining: 1.3s\n",
      "235:\tlearn: 278444.2025084\ttotal: 401ms\tremaining: 1.3s\n",
      "236:\tlearn: 278298.5590423\ttotal: 402ms\tremaining: 1.29s\n",
      "237:\tlearn: 278116.7701903\ttotal: 404ms\tremaining: 1.29s\n",
      "238:\tlearn: 277832.9876551\ttotal: 405ms\tremaining: 1.29s\n",
      "239:\tlearn: 277569.5340560\ttotal: 406ms\tremaining: 1.28s\n",
      "240:\tlearn: 277141.6861657\ttotal: 407ms\tremaining: 1.28s\n",
      "241:\tlearn: 276795.7172474\ttotal: 408ms\tremaining: 1.28s\n",
      "242:\tlearn: 276453.2050755\ttotal: 410ms\tremaining: 1.27s\n",
      "243:\tlearn: 276169.9748310\ttotal: 411ms\tremaining: 1.27s\n",
      "244:\tlearn: 275946.6190126\ttotal: 412ms\tremaining: 1.27s\n",
      "245:\tlearn: 275627.7986593\ttotal: 413ms\tremaining: 1.27s\n",
      "246:\tlearn: 275474.8032441\ttotal: 414ms\tremaining: 1.26s\n",
      "247:\tlearn: 275245.8330795\ttotal: 416ms\tremaining: 1.26s\n",
      "248:\tlearn: 274986.8431085\ttotal: 417ms\tremaining: 1.26s\n",
      "249:\tlearn: 274680.4010086\ttotal: 418ms\tremaining: 1.25s\n",
      "250:\tlearn: 274545.8354377\ttotal: 419ms\tremaining: 1.25s\n",
      "251:\tlearn: 274301.9484967\ttotal: 421ms\tremaining: 1.25s\n",
      "252:\tlearn: 274187.6756295\ttotal: 422ms\tremaining: 1.25s\n",
      "253:\tlearn: 273929.7512517\ttotal: 423ms\tremaining: 1.24s\n",
      "254:\tlearn: 273688.1093050\ttotal: 425ms\tremaining: 1.24s\n",
      "255:\tlearn: 273550.9667305\ttotal: 426ms\tremaining: 1.24s\n",
      "256:\tlearn: 273274.8965564\ttotal: 444ms\tremaining: 1.28s\n",
      "257:\tlearn: 273113.6662049\ttotal: 445ms\tremaining: 1.28s\n",
      "258:\tlearn: 272733.6968295\ttotal: 447ms\tremaining: 1.28s\n",
      "259:\tlearn: 272574.7809871\ttotal: 448ms\tremaining: 1.27s\n",
      "260:\tlearn: 272433.5855089\ttotal: 449ms\tremaining: 1.27s\n",
      "261:\tlearn: 272319.0434227\ttotal: 451ms\tremaining: 1.27s\n",
      "262:\tlearn: 272076.6285003\ttotal: 452ms\tremaining: 1.27s\n",
      "263:\tlearn: 271831.4233808\ttotal: 453ms\tremaining: 1.26s\n",
      "264:\tlearn: 271697.9952349\ttotal: 455ms\tremaining: 1.26s\n",
      "265:\tlearn: 271424.1682210\ttotal: 456ms\tremaining: 1.26s\n",
      "266:\tlearn: 271146.5420387\ttotal: 457ms\tremaining: 1.25s\n",
      "267:\tlearn: 270801.8875819\ttotal: 458ms\tremaining: 1.25s\n",
      "268:\tlearn: 270574.9882944\ttotal: 460ms\tremaining: 1.25s\n",
      "269:\tlearn: 270204.0704068\ttotal: 461ms\tremaining: 1.25s\n",
      "270:\tlearn: 270087.0421870\ttotal: 462ms\tremaining: 1.24s\n",
      "271:\tlearn: 269913.2998013\ttotal: 463ms\tremaining: 1.24s\n",
      "272:\tlearn: 269656.8838564\ttotal: 465ms\tremaining: 1.24s\n",
      "273:\tlearn: 269306.1112637\ttotal: 466ms\tremaining: 1.23s\n",
      "274:\tlearn: 268984.8446953\ttotal: 467ms\tremaining: 1.23s\n",
      "275:\tlearn: 268688.2601294\ttotal: 469ms\tremaining: 1.23s\n",
      "276:\tlearn: 268429.0354554\ttotal: 470ms\tremaining: 1.23s\n",
      "277:\tlearn: 268233.7764296\ttotal: 471ms\tremaining: 1.22s\n",
      "278:\tlearn: 268020.8452196\ttotal: 472ms\tremaining: 1.22s\n",
      "279:\tlearn: 267740.9635475\ttotal: 474ms\tremaining: 1.22s\n",
      "280:\tlearn: 267399.5242662\ttotal: 475ms\tremaining: 1.22s\n",
      "281:\tlearn: 267048.0003282\ttotal: 476ms\tremaining: 1.21s\n",
      "282:\tlearn: 266927.7108897\ttotal: 478ms\tremaining: 1.21s\n",
      "283:\tlearn: 266791.6172993\ttotal: 479ms\tremaining: 1.21s\n",
      "284:\tlearn: 266684.5890110\ttotal: 480ms\tremaining: 1.2s\n",
      "285:\tlearn: 266476.2219631\ttotal: 481ms\tremaining: 1.2s\n",
      "286:\tlearn: 266171.9415616\ttotal: 483ms\tremaining: 1.2s\n",
      "287:\tlearn: 265786.3368521\ttotal: 484ms\tremaining: 1.2s\n",
      "288:\tlearn: 265673.0526818\ttotal: 485ms\tremaining: 1.19s\n",
      "289:\tlearn: 265369.4940480\ttotal: 486ms\tremaining: 1.19s\n",
      "290:\tlearn: 265072.5216522\ttotal: 487ms\tremaining: 1.19s\n",
      "291:\tlearn: 264933.3924307\ttotal: 489ms\tremaining: 1.18s\n",
      "292:\tlearn: 264716.9120809\ttotal: 490ms\tremaining: 1.18s\n",
      "293:\tlearn: 264369.8912675\ttotal: 491ms\tremaining: 1.18s\n",
      "294:\tlearn: 264251.2213675\ttotal: 493ms\tremaining: 1.18s\n",
      "295:\tlearn: 264030.7517099\ttotal: 494ms\tremaining: 1.17s\n",
      "296:\tlearn: 263821.9682031\ttotal: 495ms\tremaining: 1.17s\n",
      "297:\tlearn: 263550.5012884\ttotal: 496ms\tremaining: 1.17s\n",
      "298:\tlearn: 263441.6014811\ttotal: 497ms\tremaining: 1.17s\n",
      "299:\tlearn: 263233.7893115\ttotal: 499ms\tremaining: 1.16s\n",
      "300:\tlearn: 263065.1024440\ttotal: 500ms\tremaining: 1.16s\n",
      "301:\tlearn: 262828.5575940\ttotal: 501ms\tremaining: 1.16s\n",
      "302:\tlearn: 262616.6019812\ttotal: 503ms\tremaining: 1.16s\n",
      "303:\tlearn: 262489.9283544\ttotal: 504ms\tremaining: 1.15s\n",
      "304:\tlearn: 262364.4311462\ttotal: 505ms\tremaining: 1.15s\n",
      "305:\tlearn: 262021.8312886\ttotal: 506ms\tremaining: 1.15s\n",
      "306:\tlearn: 261911.6378182\ttotal: 508ms\tremaining: 1.15s\n",
      "307:\tlearn: 261689.9878952\ttotal: 509ms\tremaining: 1.14s\n",
      "308:\tlearn: 261282.3499760\ttotal: 510ms\tremaining: 1.14s\n",
      "309:\tlearn: 261105.0610001\ttotal: 511ms\tremaining: 1.14s\n",
      "310:\tlearn: 260936.0730325\ttotal: 513ms\tremaining: 1.14s\n",
      "311:\tlearn: 260453.8792971\ttotal: 514ms\tremaining: 1.13s\n",
      "312:\tlearn: 260316.0426033\ttotal: 515ms\tremaining: 1.13s\n",
      "313:\tlearn: 259997.7669400\ttotal: 517ms\tremaining: 1.13s\n",
      "314:\tlearn: 259741.8377475\ttotal: 518ms\tremaining: 1.13s\n",
      "315:\tlearn: 259577.4317763\ttotal: 519ms\tremaining: 1.12s\n",
      "316:\tlearn: 259362.5360928\ttotal: 521ms\tremaining: 1.12s\n",
      "317:\tlearn: 259258.1538951\ttotal: 522ms\tremaining: 1.12s\n",
      "318:\tlearn: 259023.1540425\ttotal: 523ms\tremaining: 1.12s\n",
      "319:\tlearn: 258855.2084985\ttotal: 524ms\tremaining: 1.11s\n",
      "320:\tlearn: 258640.5369401\ttotal: 526ms\tremaining: 1.11s\n",
      "321:\tlearn: 258450.6505852\ttotal: 527ms\tremaining: 1.11s\n",
      "322:\tlearn: 258245.8042546\ttotal: 528ms\tremaining: 1.11s\n",
      "323:\tlearn: 257930.2896462\ttotal: 529ms\tremaining: 1.1s\n",
      "324:\tlearn: 257780.8186470\ttotal: 531ms\tremaining: 1.1s\n",
      "325:\tlearn: 257547.5537821\ttotal: 532ms\tremaining: 1.1s\n",
      "326:\tlearn: 257355.2517845\ttotal: 533ms\tremaining: 1.1s\n",
      "327:\tlearn: 257295.0030737\ttotal: 535ms\tremaining: 1.09s\n",
      "328:\tlearn: 257135.3131239\ttotal: 536ms\tremaining: 1.09s\n",
      "329:\tlearn: 256965.5489952\ttotal: 537ms\tremaining: 1.09s\n",
      "330:\tlearn: 256602.7041254\ttotal: 538ms\tremaining: 1.09s\n",
      "331:\tlearn: 256154.8204922\ttotal: 539ms\tremaining: 1.08s\n",
      "332:\tlearn: 256004.4412029\ttotal: 540ms\tremaining: 1.08s\n",
      "333:\tlearn: 255886.7366874\ttotal: 542ms\tremaining: 1.08s\n",
      "334:\tlearn: 255710.7724673\ttotal: 543ms\tremaining: 1.08s\n",
      "335:\tlearn: 255481.4538960\ttotal: 544ms\tremaining: 1.07s\n",
      "336:\tlearn: 255141.3467296\ttotal: 545ms\tremaining: 1.07s\n",
      "337:\tlearn: 254842.4658285\ttotal: 547ms\tremaining: 1.07s\n",
      "338:\tlearn: 254536.4892065\ttotal: 548ms\tremaining: 1.07s\n",
      "339:\tlearn: 254372.1921738\ttotal: 549ms\tremaining: 1.06s\n",
      "340:\tlearn: 254235.4217964\ttotal: 550ms\tremaining: 1.06s\n",
      "341:\tlearn: 253983.3832091\ttotal: 551ms\tremaining: 1.06s\n",
      "342:\tlearn: 253787.0609174\ttotal: 552ms\tremaining: 1.06s\n",
      "343:\tlearn: 253522.4195740\ttotal: 553ms\tremaining: 1.05s\n",
      "344:\tlearn: 253387.0302445\ttotal: 555ms\tremaining: 1.05s\n",
      "345:\tlearn: 253183.7287870\ttotal: 556ms\tremaining: 1.05s\n",
      "346:\tlearn: 253028.6302620\ttotal: 557ms\tremaining: 1.05s\n",
      "347:\tlearn: 252869.5917717\ttotal: 558ms\tremaining: 1.04s\n",
      "348:\tlearn: 252547.2752581\ttotal: 559ms\tremaining: 1.04s\n",
      "349:\tlearn: 252375.0861587\ttotal: 560ms\tremaining: 1.04s\n",
      "350:\tlearn: 252199.0921724\ttotal: 562ms\tremaining: 1.04s\n",
      "351:\tlearn: 252028.5768181\ttotal: 563ms\tremaining: 1.04s\n",
      "352:\tlearn: 251749.2174884\ttotal: 564ms\tremaining: 1.03s\n",
      "353:\tlearn: 251602.9680955\ttotal: 565ms\tremaining: 1.03s\n",
      "354:\tlearn: 251437.7415287\ttotal: 566ms\tremaining: 1.03s\n",
      "355:\tlearn: 251300.1130711\ttotal: 567ms\tremaining: 1.03s\n",
      "356:\tlearn: 251001.6123519\ttotal: 569ms\tremaining: 1.02s\n",
      "357:\tlearn: 250800.5581585\ttotal: 570ms\tremaining: 1.02s\n",
      "358:\tlearn: 250691.1839790\ttotal: 571ms\tremaining: 1.02s\n",
      "359:\tlearn: 250413.4577942\ttotal: 573ms\tremaining: 1.02s\n",
      "360:\tlearn: 250149.2811364\ttotal: 574ms\tremaining: 1.01s\n",
      "361:\tlearn: 249935.9358458\ttotal: 575ms\tremaining: 1.01s\n",
      "362:\tlearn: 249477.6721414\ttotal: 576ms\tremaining: 1.01s\n",
      "363:\tlearn: 249182.6318967\ttotal: 578ms\tremaining: 1.01s\n",
      "364:\tlearn: 248894.6608023\ttotal: 579ms\tremaining: 1.01s\n",
      "365:\tlearn: 248744.1770409\ttotal: 581ms\tremaining: 1s\n",
      "366:\tlearn: 248410.2406573\ttotal: 582ms\tremaining: 1s\n",
      "367:\tlearn: 248229.9023973\ttotal: 584ms\tremaining: 1s\n",
      "368:\tlearn: 248035.5490747\ttotal: 586ms\tremaining: 1s\n",
      "369:\tlearn: 247723.5530464\ttotal: 587ms\tremaining: 1000ms\n",
      "370:\tlearn: 247455.5280732\ttotal: 588ms\tremaining: 998ms\n",
      "371:\tlearn: 247283.0575142\ttotal: 590ms\tremaining: 996ms\n",
      "372:\tlearn: 247154.7354882\ttotal: 591ms\tremaining: 994ms\n",
      "373:\tlearn: 247002.2285723\ttotal: 593ms\tremaining: 993ms\n",
      "374:\tlearn: 246759.0961851\ttotal: 595ms\tremaining: 991ms\n",
      "375:\tlearn: 246515.5819779\ttotal: 596ms\tremaining: 990ms\n",
      "376:\tlearn: 246338.3394666\ttotal: 598ms\tremaining: 988ms\n",
      "377:\tlearn: 246243.4457682\ttotal: 599ms\tremaining: 986ms\n",
      "378:\tlearn: 246015.9984725\ttotal: 601ms\tremaining: 984ms\n",
      "379:\tlearn: 245932.4751391\ttotal: 602ms\tremaining: 982ms\n",
      "380:\tlearn: 245797.5915710\ttotal: 603ms\tremaining: 980ms\n",
      "381:\tlearn: 245632.1106790\ttotal: 605ms\tremaining: 978ms\n",
      "382:\tlearn: 245433.4604474\ttotal: 606ms\tremaining: 976ms\n",
      "383:\tlearn: 245181.0514726\ttotal: 608ms\tremaining: 975ms\n",
      "384:\tlearn: 244982.9551840\ttotal: 609ms\tremaining: 973ms\n",
      "385:\tlearn: 244746.8564687\ttotal: 610ms\tremaining: 971ms\n",
      "386:\tlearn: 244553.0655867\ttotal: 612ms\tremaining: 969ms\n",
      "387:\tlearn: 244402.4201947\ttotal: 613ms\tremaining: 967ms\n",
      "388:\tlearn: 244290.0224373\ttotal: 614ms\tremaining: 965ms\n",
      "389:\tlearn: 244174.9194635\ttotal: 616ms\tremaining: 963ms\n",
      "390:\tlearn: 244033.7419337\ttotal: 617ms\tremaining: 961ms\n",
      "391:\tlearn: 243839.1170444\ttotal: 618ms\tremaining: 959ms\n",
      "392:\tlearn: 243602.7461350\ttotal: 619ms\tremaining: 957ms\n",
      "393:\tlearn: 243512.8660559\ttotal: 621ms\tremaining: 955ms\n",
      "394:\tlearn: 243341.2407621\ttotal: 622ms\tremaining: 953ms\n",
      "395:\tlearn: 243162.5882276\ttotal: 623ms\tremaining: 951ms\n",
      "396:\tlearn: 243054.6677987\ttotal: 625ms\tremaining: 949ms\n",
      "397:\tlearn: 242871.6230640\ttotal: 626ms\tremaining: 947ms\n",
      "398:\tlearn: 242707.7704545\ttotal: 627ms\tremaining: 945ms\n",
      "399:\tlearn: 242460.8777661\ttotal: 629ms\tremaining: 943ms\n",
      "400:\tlearn: 242255.7290754\ttotal: 630ms\tremaining: 941ms\n",
      "401:\tlearn: 242136.5432043\ttotal: 631ms\tremaining: 939ms\n",
      "402:\tlearn: 241986.3779416\ttotal: 633ms\tremaining: 937ms\n",
      "403:\tlearn: 241895.0441501\ttotal: 634ms\tremaining: 935ms\n",
      "404:\tlearn: 241752.2516291\ttotal: 635ms\tremaining: 933ms\n",
      "405:\tlearn: 241671.8906220\ttotal: 637ms\tremaining: 931ms\n",
      "406:\tlearn: 241573.7406008\ttotal: 638ms\tremaining: 929ms\n",
      "407:\tlearn: 241318.2362177\ttotal: 639ms\tremaining: 928ms\n",
      "408:\tlearn: 241236.6596192\ttotal: 640ms\tremaining: 925ms\n",
      "409:\tlearn: 241095.8115274\ttotal: 642ms\tremaining: 924ms\n",
      "410:\tlearn: 240939.9754856\ttotal: 643ms\tremaining: 922ms\n",
      "411:\tlearn: 240784.9568721\ttotal: 645ms\tremaining: 920ms\n",
      "412:\tlearn: 240615.3453653\ttotal: 646ms\tremaining: 918ms\n",
      "413:\tlearn: 240490.5446043\ttotal: 648ms\tremaining: 917ms\n",
      "414:\tlearn: 240270.3793193\ttotal: 649ms\tremaining: 915ms\n",
      "415:\tlearn: 240128.4590080\ttotal: 651ms\tremaining: 914ms\n",
      "416:\tlearn: 239905.2864207\ttotal: 653ms\tremaining: 912ms\n",
      "417:\tlearn: 239747.2181227\ttotal: 654ms\tremaining: 911ms\n",
      "418:\tlearn: 239598.3426518\ttotal: 656ms\tremaining: 909ms\n",
      "419:\tlearn: 239412.1298173\ttotal: 657ms\tremaining: 908ms\n",
      "420:\tlearn: 239255.2221817\ttotal: 659ms\tremaining: 906ms\n",
      "421:\tlearn: 238974.9911018\ttotal: 660ms\tremaining: 904ms\n",
      "422:\tlearn: 238826.6228841\ttotal: 661ms\tremaining: 902ms\n",
      "423:\tlearn: 238677.4442955\ttotal: 663ms\tremaining: 901ms\n",
      "424:\tlearn: 238561.4802650\ttotal: 664ms\tremaining: 899ms\n",
      "425:\tlearn: 238433.4428680\ttotal: 666ms\tremaining: 897ms\n",
      "426:\tlearn: 238292.5197194\ttotal: 667ms\tremaining: 896ms\n",
      "427:\tlearn: 238070.0601962\ttotal: 669ms\tremaining: 894ms\n",
      "428:\tlearn: 237970.5240575\ttotal: 670ms\tremaining: 892ms\n",
      "429:\tlearn: 237847.5944790\ttotal: 672ms\tremaining: 890ms\n",
      "430:\tlearn: 237682.9347129\ttotal: 673ms\tremaining: 889ms\n",
      "431:\tlearn: 237512.2670797\ttotal: 675ms\tremaining: 887ms\n",
      "432:\tlearn: 237385.7313914\ttotal: 677ms\tremaining: 886ms\n",
      "433:\tlearn: 237178.1009697\ttotal: 678ms\tremaining: 885ms\n",
      "434:\tlearn: 236969.1794936\ttotal: 680ms\tremaining: 883ms\n",
      "435:\tlearn: 236871.7137207\ttotal: 682ms\tremaining: 882ms\n",
      "436:\tlearn: 236691.0384572\ttotal: 683ms\tremaining: 880ms\n",
      "437:\tlearn: 236581.8941373\ttotal: 684ms\tremaining: 878ms\n",
      "438:\tlearn: 236356.0918807\ttotal: 686ms\tremaining: 877ms\n",
      "439:\tlearn: 236187.3372290\ttotal: 688ms\tremaining: 876ms\n",
      "440:\tlearn: 236080.5391366\ttotal: 690ms\tremaining: 874ms\n",
      "441:\tlearn: 235945.9663420\ttotal: 691ms\tremaining: 873ms\n",
      "442:\tlearn: 235821.7189506\ttotal: 693ms\tremaining: 871ms\n",
      "443:\tlearn: 235619.4071509\ttotal: 694ms\tremaining: 869ms\n",
      "444:\tlearn: 235525.9269650\ttotal: 695ms\tremaining: 867ms\n",
      "445:\tlearn: 235434.5777729\ttotal: 696ms\tremaining: 865ms\n",
      "446:\tlearn: 235309.1761940\ttotal: 698ms\tremaining: 863ms\n",
      "447:\tlearn: 235232.1334866\ttotal: 699ms\tremaining: 861ms\n",
      "448:\tlearn: 235042.3179507\ttotal: 700ms\tremaining: 859ms\n",
      "449:\tlearn: 234900.1783710\ttotal: 702ms\tremaining: 858ms\n",
      "450:\tlearn: 234757.4455353\ttotal: 703ms\tremaining: 856ms\n"
     ]
    },
    {
     "name": "stdout",
     "output_type": "stream",
     "text": [
      "451:\tlearn: 234480.0537268\ttotal: 705ms\tremaining: 855ms\n",
      "452:\tlearn: 234257.1645701\ttotal: 706ms\tremaining: 853ms\n",
      "453:\tlearn: 233995.1711859\ttotal: 708ms\tremaining: 851ms\n",
      "454:\tlearn: 233750.0289747\ttotal: 709ms\tremaining: 849ms\n",
      "455:\tlearn: 233632.1596624\ttotal: 710ms\tremaining: 847ms\n",
      "456:\tlearn: 233542.8400519\ttotal: 711ms\tremaining: 845ms\n",
      "457:\tlearn: 233425.4678031\ttotal: 713ms\tremaining: 843ms\n",
      "458:\tlearn: 233303.4417388\ttotal: 714ms\tremaining: 841ms\n",
      "459:\tlearn: 233179.4229646\ttotal: 715ms\tremaining: 839ms\n",
      "460:\tlearn: 233097.3819100\ttotal: 716ms\tremaining: 837ms\n",
      "461:\tlearn: 232960.8957338\ttotal: 718ms\tremaining: 836ms\n",
      "462:\tlearn: 232878.5601125\ttotal: 719ms\tremaining: 834ms\n",
      "463:\tlearn: 232764.2614935\ttotal: 720ms\tremaining: 832ms\n",
      "464:\tlearn: 232672.8931269\ttotal: 721ms\tremaining: 830ms\n",
      "465:\tlearn: 232417.0869611\ttotal: 723ms\tremaining: 828ms\n",
      "466:\tlearn: 232174.3131826\ttotal: 724ms\tremaining: 826ms\n",
      "467:\tlearn: 232067.4439321\ttotal: 725ms\tremaining: 824ms\n",
      "468:\tlearn: 231819.4268606\ttotal: 726ms\tremaining: 822ms\n",
      "469:\tlearn: 231658.1697201\ttotal: 728ms\tremaining: 820ms\n",
      "470:\tlearn: 231512.7148161\ttotal: 729ms\tremaining: 819ms\n",
      "471:\tlearn: 231281.6119010\ttotal: 730ms\tremaining: 817ms\n",
      "472:\tlearn: 231177.6479391\ttotal: 731ms\tremaining: 815ms\n",
      "473:\tlearn: 231104.9226702\ttotal: 733ms\tremaining: 813ms\n",
      "474:\tlearn: 230827.8372011\ttotal: 734ms\tremaining: 811ms\n",
      "475:\tlearn: 230612.9248852\ttotal: 735ms\tremaining: 809ms\n",
      "476:\tlearn: 230399.8748666\ttotal: 737ms\tremaining: 808ms\n",
      "477:\tlearn: 230057.3655272\ttotal: 738ms\tremaining: 806ms\n",
      "478:\tlearn: 229871.1751231\ttotal: 739ms\tremaining: 804ms\n",
      "479:\tlearn: 229769.7709714\ttotal: 740ms\tremaining: 802ms\n",
      "480:\tlearn: 229688.5648855\ttotal: 742ms\tremaining: 801ms\n",
      "481:\tlearn: 229454.5222063\ttotal: 743ms\tremaining: 799ms\n",
      "482:\tlearn: 229255.6997925\ttotal: 746ms\tremaining: 798ms\n",
      "483:\tlearn: 228943.1399159\ttotal: 747ms\tremaining: 797ms\n",
      "484:\tlearn: 228830.6737079\ttotal: 749ms\tremaining: 795ms\n",
      "485:\tlearn: 228759.4021289\ttotal: 750ms\tremaining: 794ms\n",
      "486:\tlearn: 228667.9400628\ttotal: 752ms\tremaining: 792ms\n",
      "487:\tlearn: 228477.3695710\ttotal: 754ms\tremaining: 791ms\n",
      "488:\tlearn: 228393.2673365\ttotal: 755ms\tremaining: 789ms\n",
      "489:\tlearn: 228268.6445353\ttotal: 756ms\tremaining: 787ms\n",
      "490:\tlearn: 228076.4258503\ttotal: 758ms\tremaining: 786ms\n",
      "491:\tlearn: 227799.9283405\ttotal: 760ms\tremaining: 784ms\n",
      "492:\tlearn: 227741.0345717\ttotal: 761ms\tremaining: 783ms\n",
      "493:\tlearn: 227563.2738811\ttotal: 762ms\tremaining: 781ms\n",
      "494:\tlearn: 227416.2532713\ttotal: 764ms\tremaining: 779ms\n",
      "495:\tlearn: 227260.6949846\ttotal: 765ms\tremaining: 777ms\n",
      "496:\tlearn: 227011.2307163\ttotal: 766ms\tremaining: 776ms\n",
      "497:\tlearn: 226867.7396082\ttotal: 768ms\tremaining: 774ms\n",
      "498:\tlearn: 226785.8716968\ttotal: 769ms\tremaining: 772ms\n",
      "499:\tlearn: 226629.9025254\ttotal: 770ms\tremaining: 770ms\n",
      "500:\tlearn: 226465.9506650\ttotal: 771ms\tremaining: 768ms\n",
      "501:\tlearn: 226323.1109821\ttotal: 773ms\tremaining: 767ms\n",
      "502:\tlearn: 226077.9761478\ttotal: 774ms\tremaining: 765ms\n",
      "503:\tlearn: 225865.6785475\ttotal: 776ms\tremaining: 763ms\n",
      "504:\tlearn: 225731.5113147\ttotal: 777ms\tremaining: 762ms\n",
      "505:\tlearn: 225646.2970680\ttotal: 779ms\tremaining: 761ms\n",
      "506:\tlearn: 225557.7259907\ttotal: 781ms\tremaining: 759ms\n",
      "507:\tlearn: 225481.2623998\ttotal: 782ms\tremaining: 757ms\n",
      "508:\tlearn: 225268.2181922\ttotal: 783ms\tremaining: 755ms\n",
      "509:\tlearn: 225171.5954022\ttotal: 784ms\tremaining: 754ms\n",
      "510:\tlearn: 225083.6009342\ttotal: 786ms\tremaining: 752ms\n",
      "511:\tlearn: 224972.4927128\ttotal: 787ms\tremaining: 750ms\n",
      "512:\tlearn: 224862.1638635\ttotal: 788ms\tremaining: 748ms\n",
      "513:\tlearn: 224685.5710972\ttotal: 790ms\tremaining: 747ms\n",
      "514:\tlearn: 224629.3233738\ttotal: 791ms\tremaining: 745ms\n",
      "515:\tlearn: 224521.2649805\ttotal: 792ms\tremaining: 743ms\n",
      "516:\tlearn: 224405.3660602\ttotal: 793ms\tremaining: 741ms\n",
      "517:\tlearn: 224275.9749278\ttotal: 795ms\tremaining: 739ms\n",
      "518:\tlearn: 224133.4812034\ttotal: 796ms\tremaining: 737ms\n",
      "519:\tlearn: 224012.4301619\ttotal: 797ms\tremaining: 736ms\n",
      "520:\tlearn: 223801.1970873\ttotal: 798ms\tremaining: 734ms\n",
      "521:\tlearn: 223635.9506851\ttotal: 799ms\tremaining: 732ms\n",
      "522:\tlearn: 223483.4200496\ttotal: 801ms\tremaining: 730ms\n",
      "523:\tlearn: 223410.9827936\ttotal: 802ms\tremaining: 728ms\n",
      "524:\tlearn: 223266.7285681\ttotal: 803ms\tremaining: 727ms\n",
      "525:\tlearn: 223097.6364207\ttotal: 804ms\tremaining: 725ms\n",
      "526:\tlearn: 222983.7127478\ttotal: 806ms\tremaining: 723ms\n",
      "527:\tlearn: 222811.7041259\ttotal: 807ms\tremaining: 721ms\n",
      "528:\tlearn: 222621.1720195\ttotal: 808ms\tremaining: 719ms\n",
      "529:\tlearn: 222454.1572781\ttotal: 809ms\tremaining: 718ms\n",
      "530:\tlearn: 222375.6364809\ttotal: 811ms\tremaining: 716ms\n",
      "531:\tlearn: 222298.8632504\ttotal: 812ms\tremaining: 714ms\n",
      "532:\tlearn: 222103.3627503\ttotal: 813ms\tremaining: 712ms\n",
      "533:\tlearn: 221886.4506008\ttotal: 814ms\tremaining: 711ms\n",
      "534:\tlearn: 221651.3877029\ttotal: 816ms\tremaining: 709ms\n",
      "535:\tlearn: 221579.0521839\ttotal: 817ms\tremaining: 707ms\n",
      "536:\tlearn: 221494.9756938\ttotal: 818ms\tremaining: 705ms\n",
      "537:\tlearn: 221195.4154982\ttotal: 819ms\tremaining: 703ms\n",
      "538:\tlearn: 221109.2566715\ttotal: 820ms\tremaining: 702ms\n",
      "539:\tlearn: 220897.0627006\ttotal: 822ms\tremaining: 700ms\n",
      "540:\tlearn: 220785.9687824\ttotal: 823ms\tremaining: 698ms\n",
      "541:\tlearn: 220649.0571874\ttotal: 824ms\tremaining: 696ms\n",
      "542:\tlearn: 220449.1088826\ttotal: 825ms\tremaining: 695ms\n",
      "543:\tlearn: 220249.0011137\ttotal: 827ms\tremaining: 693ms\n",
      "544:\tlearn: 220104.6658163\ttotal: 828ms\tremaining: 691ms\n",
      "545:\tlearn: 219989.8499517\ttotal: 829ms\tremaining: 689ms\n",
      "546:\tlearn: 219894.9260411\ttotal: 831ms\tremaining: 688ms\n",
      "547:\tlearn: 219741.5077172\ttotal: 832ms\tremaining: 686ms\n",
      "548:\tlearn: 219577.7957338\ttotal: 833ms\tremaining: 684ms\n",
      "549:\tlearn: 219436.2300688\ttotal: 834ms\tremaining: 683ms\n",
      "550:\tlearn: 219287.8129309\ttotal: 835ms\tremaining: 681ms\n",
      "551:\tlearn: 219161.2659600\ttotal: 837ms\tremaining: 679ms\n",
      "552:\tlearn: 218995.7246504\ttotal: 838ms\tremaining: 677ms\n",
      "553:\tlearn: 218916.7301929\ttotal: 839ms\tremaining: 676ms\n",
      "554:\tlearn: 218847.3440641\ttotal: 840ms\tremaining: 674ms\n",
      "555:\tlearn: 218579.4144419\ttotal: 842ms\tremaining: 672ms\n",
      "556:\tlearn: 218498.8259198\ttotal: 843ms\tremaining: 670ms\n",
      "557:\tlearn: 218399.3774888\ttotal: 844ms\tremaining: 669ms\n",
      "558:\tlearn: 218284.2315064\ttotal: 845ms\tremaining: 667ms\n",
      "559:\tlearn: 218033.2140162\ttotal: 847ms\tremaining: 665ms\n",
      "560:\tlearn: 217852.3568420\ttotal: 848ms\tremaining: 664ms\n",
      "561:\tlearn: 217739.8443091\ttotal: 850ms\tremaining: 662ms\n",
      "562:\tlearn: 217634.0594403\ttotal: 851ms\tremaining: 661ms\n",
      "563:\tlearn: 217404.4055583\ttotal: 853ms\tremaining: 660ms\n",
      "564:\tlearn: 217240.4106646\ttotal: 855ms\tremaining: 658ms\n",
      "565:\tlearn: 217151.1277894\ttotal: 856ms\tremaining: 657ms\n",
      "566:\tlearn: 217073.4925748\ttotal: 858ms\tremaining: 655ms\n",
      "567:\tlearn: 216905.0168133\ttotal: 859ms\tremaining: 653ms\n",
      "568:\tlearn: 216775.0007648\ttotal: 860ms\tremaining: 652ms\n",
      "569:\tlearn: 216722.4854686\ttotal: 861ms\tremaining: 650ms\n",
      "570:\tlearn: 216581.2634793\ttotal: 863ms\tremaining: 648ms\n",
      "571:\tlearn: 216460.7450828\ttotal: 864ms\tremaining: 647ms\n",
      "572:\tlearn: 216365.8061709\ttotal: 865ms\tremaining: 645ms\n",
      "573:\tlearn: 216270.1303113\ttotal: 867ms\tremaining: 643ms\n",
      "574:\tlearn: 216148.6082870\ttotal: 868ms\tremaining: 642ms\n",
      "575:\tlearn: 215940.1510071\ttotal: 869ms\tremaining: 640ms\n",
      "576:\tlearn: 215829.3366065\ttotal: 871ms\tremaining: 638ms\n",
      "577:\tlearn: 215736.0557183\ttotal: 872ms\tremaining: 637ms\n",
      "578:\tlearn: 215672.4932699\ttotal: 873ms\tremaining: 635ms\n",
      "579:\tlearn: 215507.7854515\ttotal: 875ms\tremaining: 633ms\n",
      "580:\tlearn: 215335.3530377\ttotal: 876ms\tremaining: 632ms\n",
      "581:\tlearn: 215218.4493772\ttotal: 877ms\tremaining: 630ms\n",
      "582:\tlearn: 215041.8500294\ttotal: 878ms\tremaining: 628ms\n",
      "583:\tlearn: 214952.9105715\ttotal: 880ms\tremaining: 627ms\n",
      "584:\tlearn: 214793.0941602\ttotal: 881ms\tremaining: 625ms\n",
      "585:\tlearn: 214731.8182737\ttotal: 882ms\tremaining: 623ms\n",
      "586:\tlearn: 214536.9391493\ttotal: 884ms\tremaining: 622ms\n",
      "587:\tlearn: 214421.8767956\ttotal: 885ms\tremaining: 620ms\n",
      "588:\tlearn: 214278.0591990\ttotal: 886ms\tremaining: 618ms\n",
      "589:\tlearn: 214139.9238582\ttotal: 887ms\tremaining: 616ms\n",
      "590:\tlearn: 214041.6222445\ttotal: 888ms\tremaining: 615ms\n",
      "591:\tlearn: 213901.0524172\ttotal: 889ms\tremaining: 613ms\n",
      "592:\tlearn: 213770.9738375\ttotal: 891ms\tremaining: 611ms\n",
      "593:\tlearn: 213662.1327369\ttotal: 892ms\tremaining: 609ms\n",
      "594:\tlearn: 213570.1505514\ttotal: 893ms\tremaining: 608ms\n",
      "595:\tlearn: 213401.5602360\ttotal: 894ms\tremaining: 606ms\n",
      "596:\tlearn: 213303.4270990\ttotal: 895ms\tremaining: 604ms\n",
      "597:\tlearn: 213236.3358896\ttotal: 896ms\tremaining: 602ms\n",
      "598:\tlearn: 213010.6372855\ttotal: 898ms\tremaining: 601ms\n",
      "599:\tlearn: 212838.9736913\ttotal: 899ms\tremaining: 599ms\n",
      "600:\tlearn: 212751.7539924\ttotal: 900ms\tremaining: 597ms\n",
      "601:\tlearn: 212615.3905770\ttotal: 901ms\tremaining: 596ms\n",
      "602:\tlearn: 212454.3320267\ttotal: 902ms\tremaining: 594ms\n",
      "603:\tlearn: 212373.0610820\ttotal: 903ms\tremaining: 592ms\n",
      "604:\tlearn: 212266.2513508\ttotal: 904ms\tremaining: 590ms\n",
      "605:\tlearn: 212184.2258847\ttotal: 906ms\tremaining: 589ms\n",
      "606:\tlearn: 211983.0401831\ttotal: 907ms\tremaining: 587ms\n",
      "607:\tlearn: 211846.6086189\ttotal: 908ms\tremaining: 585ms\n",
      "608:\tlearn: 211771.9964459\ttotal: 909ms\tremaining: 584ms\n",
      "609:\tlearn: 211646.6756658\ttotal: 910ms\tremaining: 582ms\n",
      "610:\tlearn: 211467.8446080\ttotal: 911ms\tremaining: 580ms\n",
      "611:\tlearn: 211373.9900314\ttotal: 912ms\tremaining: 578ms\n",
      "612:\tlearn: 211305.3546088\ttotal: 914ms\tremaining: 577ms\n",
      "613:\tlearn: 211132.5013292\ttotal: 915ms\tremaining: 575ms\n",
      "614:\tlearn: 210951.4948596\ttotal: 916ms\tremaining: 573ms\n",
      "615:\tlearn: 210873.0880275\ttotal: 917ms\tremaining: 572ms\n",
      "616:\tlearn: 210724.5534707\ttotal: 918ms\tremaining: 570ms\n",
      "617:\tlearn: 210631.1875987\ttotal: 919ms\tremaining: 568ms\n",
      "618:\tlearn: 210541.6343046\ttotal: 921ms\tremaining: 567ms\n",
      "619:\tlearn: 210472.8058176\ttotal: 922ms\tremaining: 565ms\n",
      "620:\tlearn: 210419.6106628\ttotal: 923ms\tremaining: 563ms\n",
      "621:\tlearn: 210261.1281490\ttotal: 924ms\tremaining: 561ms\n",
      "622:\tlearn: 210199.9590863\ttotal: 925ms\tremaining: 560ms\n",
      "623:\tlearn: 209978.1006613\ttotal: 926ms\tremaining: 558ms\n",
      "624:\tlearn: 209830.8334964\ttotal: 927ms\tremaining: 556ms\n",
      "625:\tlearn: 209680.0032029\ttotal: 929ms\tremaining: 555ms\n",
      "626:\tlearn: 209613.2772552\ttotal: 930ms\tremaining: 553ms\n",
      "627:\tlearn: 209556.5608579\ttotal: 931ms\tremaining: 551ms\n",
      "628:\tlearn: 209470.6933925\ttotal: 932ms\tremaining: 550ms\n",
      "629:\tlearn: 209381.7184444\ttotal: 933ms\tremaining: 548ms\n",
      "630:\tlearn: 209221.7297037\ttotal: 934ms\tremaining: 546ms\n",
      "631:\tlearn: 209078.5839902\ttotal: 935ms\tremaining: 545ms\n",
      "632:\tlearn: 208983.5866990\ttotal: 937ms\tremaining: 543ms\n",
      "633:\tlearn: 208865.8682452\ttotal: 938ms\tremaining: 541ms\n",
      "634:\tlearn: 208807.7155785\ttotal: 939ms\tremaining: 540ms\n",
      "635:\tlearn: 208639.0404675\ttotal: 940ms\tremaining: 538ms\n",
      "636:\tlearn: 208466.2409573\ttotal: 941ms\tremaining: 536ms\n",
      "637:\tlearn: 208319.9148541\ttotal: 942ms\tremaining: 535ms\n",
      "638:\tlearn: 208215.1608912\ttotal: 943ms\tremaining: 533ms\n",
      "639:\tlearn: 208141.1316343\ttotal: 945ms\tremaining: 531ms\n",
      "640:\tlearn: 208090.4114752\ttotal: 946ms\tremaining: 530ms\n",
      "641:\tlearn: 208017.2358497\ttotal: 947ms\tremaining: 528ms\n",
      "642:\tlearn: 207904.8438949\ttotal: 948ms\tremaining: 526ms\n",
      "643:\tlearn: 207828.9557410\ttotal: 950ms\tremaining: 525ms\n",
      "644:\tlearn: 207716.8201732\ttotal: 952ms\tremaining: 524ms\n",
      "645:\tlearn: 207597.4064747\ttotal: 954ms\tremaining: 523ms\n",
      "646:\tlearn: 207563.0411006\ttotal: 957ms\tremaining: 522ms\n",
      "647:\tlearn: 207498.8853030\ttotal: 959ms\tremaining: 521ms\n",
      "648:\tlearn: 207369.4325494\ttotal: 961ms\tremaining: 520ms\n",
      "649:\tlearn: 207300.1839899\ttotal: 963ms\tremaining: 519ms\n",
      "650:\tlearn: 207222.4702698\ttotal: 966ms\tremaining: 518ms\n",
      "651:\tlearn: 207059.8729842\ttotal: 968ms\tremaining: 517ms\n",
      "652:\tlearn: 206926.9358535\ttotal: 971ms\tremaining: 516ms\n",
      "653:\tlearn: 206842.6260658\ttotal: 973ms\tremaining: 515ms\n",
      "654:\tlearn: 206741.3695544\ttotal: 975ms\tremaining: 514ms\n",
      "655:\tlearn: 206627.4048378\ttotal: 977ms\tremaining: 513ms\n",
      "656:\tlearn: 206533.2071189\ttotal: 980ms\tremaining: 512ms\n",
      "657:\tlearn: 206469.1673418\ttotal: 983ms\tremaining: 511ms\n",
      "658:\tlearn: 206373.3320668\ttotal: 985ms\tremaining: 510ms\n",
      "659:\tlearn: 206291.7861567\ttotal: 987ms\tremaining: 509ms\n",
      "660:\tlearn: 206187.2635099\ttotal: 989ms\tremaining: 507ms\n",
      "661:\tlearn: 206034.1984599\ttotal: 992ms\tremaining: 506ms\n",
      "662:\tlearn: 205939.3156202\ttotal: 994ms\tremaining: 505ms\n",
      "663:\tlearn: 205847.5998062\ttotal: 996ms\tremaining: 504ms\n",
      "664:\tlearn: 205764.5181418\ttotal: 999ms\tremaining: 503ms\n",
      "665:\tlearn: 205634.7345538\ttotal: 1s\tremaining: 502ms\n",
      "666:\tlearn: 205473.6555944\ttotal: 1s\tremaining: 501ms\n",
      "667:\tlearn: 205400.3760905\ttotal: 1s\tremaining: 500ms\n",
      "668:\tlearn: 205376.9056578\ttotal: 1.01s\tremaining: 499ms\n",
      "669:\tlearn: 205257.7260084\ttotal: 1.01s\tremaining: 498ms\n",
      "670:\tlearn: 205097.3750790\ttotal: 1.01s\tremaining: 497ms\n",
      "671:\tlearn: 205054.3761937\ttotal: 1.01s\tremaining: 496ms\n",
      "672:\tlearn: 204968.0730894\ttotal: 1.02s\tremaining: 494ms\n",
      "673:\tlearn: 204807.7203859\ttotal: 1.02s\tremaining: 493ms\n",
      "674:\tlearn: 204679.5096626\ttotal: 1.02s\tremaining: 492ms\n",
      "675:\tlearn: 204626.1190392\ttotal: 1.02s\tremaining: 491ms\n",
      "676:\tlearn: 204353.1420807\ttotal: 1.03s\tremaining: 490ms\n",
      "677:\tlearn: 204257.8186735\ttotal: 1.03s\tremaining: 489ms\n",
      "678:\tlearn: 204193.6112881\ttotal: 1.03s\tremaining: 488ms\n",
      "679:\tlearn: 204085.1568499\ttotal: 1.03s\tremaining: 487ms\n",
      "680:\tlearn: 204003.1306480\ttotal: 1.04s\tremaining: 486ms\n"
     ]
    },
    {
     "name": "stdout",
     "output_type": "stream",
     "text": [
      "681:\tlearn: 203944.8082608\ttotal: 1.04s\tremaining: 485ms\n",
      "682:\tlearn: 203827.2464830\ttotal: 1.04s\tremaining: 484ms\n",
      "683:\tlearn: 203741.1015718\ttotal: 1.04s\tremaining: 483ms\n",
      "684:\tlearn: 203707.7905661\ttotal: 1.05s\tremaining: 482ms\n",
      "685:\tlearn: 203672.5921635\ttotal: 1.05s\tremaining: 481ms\n",
      "686:\tlearn: 203542.7594958\ttotal: 1.05s\tremaining: 479ms\n",
      "687:\tlearn: 203420.9624655\ttotal: 1.05s\tremaining: 478ms\n",
      "688:\tlearn: 203263.6995794\ttotal: 1.06s\tremaining: 477ms\n",
      "689:\tlearn: 203005.2925064\ttotal: 1.06s\tremaining: 476ms\n",
      "690:\tlearn: 202835.7677987\ttotal: 1.06s\tremaining: 475ms\n",
      "691:\tlearn: 202734.0355763\ttotal: 1.06s\tremaining: 474ms\n",
      "692:\tlearn: 202631.4462085\ttotal: 1.07s\tremaining: 473ms\n",
      "693:\tlearn: 202561.1673257\ttotal: 1.07s\tremaining: 471ms\n",
      "694:\tlearn: 202453.8237011\ttotal: 1.07s\tremaining: 471ms\n",
      "695:\tlearn: 202333.6272531\ttotal: 1.07s\tremaining: 470ms\n",
      "696:\tlearn: 202269.8384107\ttotal: 1.08s\tremaining: 468ms\n",
      "697:\tlearn: 202138.3795806\ttotal: 1.08s\tremaining: 467ms\n",
      "698:\tlearn: 202014.3347922\ttotal: 1.08s\tremaining: 466ms\n",
      "699:\tlearn: 201927.7093884\ttotal: 1.08s\tremaining: 465ms\n",
      "700:\tlearn: 201736.9395114\ttotal: 1.09s\tremaining: 464ms\n",
      "701:\tlearn: 201591.4555944\ttotal: 1.09s\tremaining: 463ms\n",
      "702:\tlearn: 201510.2639352\ttotal: 1.09s\tremaining: 461ms\n",
      "703:\tlearn: 201438.4595158\ttotal: 1.09s\tremaining: 460ms\n",
      "704:\tlearn: 201408.1088038\ttotal: 1.1s\tremaining: 459ms\n",
      "705:\tlearn: 201324.8014357\ttotal: 1.1s\tremaining: 458ms\n",
      "706:\tlearn: 201065.4339039\ttotal: 1.1s\tremaining: 457ms\n",
      "707:\tlearn: 200956.2035904\ttotal: 1.1s\tremaining: 455ms\n",
      "708:\tlearn: 200795.6825940\ttotal: 1.11s\tremaining: 454ms\n",
      "709:\tlearn: 200734.4287171\ttotal: 1.11s\tremaining: 453ms\n",
      "710:\tlearn: 200669.9996117\ttotal: 1.11s\tremaining: 452ms\n",
      "711:\tlearn: 200523.5894351\ttotal: 1.11s\tremaining: 450ms\n",
      "712:\tlearn: 200447.4700595\ttotal: 1.11s\tremaining: 449ms\n",
      "713:\tlearn: 200350.1203567\ttotal: 1.12s\tremaining: 448ms\n",
      "714:\tlearn: 200298.2509916\ttotal: 1.12s\tremaining: 447ms\n",
      "715:\tlearn: 200101.3971793\ttotal: 1.12s\tremaining: 446ms\n",
      "716:\tlearn: 199862.4064737\ttotal: 1.13s\tremaining: 444ms\n",
      "717:\tlearn: 199690.7508018\ttotal: 1.13s\tremaining: 443ms\n",
      "718:\tlearn: 199564.7453647\ttotal: 1.13s\tremaining: 442ms\n",
      "719:\tlearn: 199503.8507560\ttotal: 1.13s\tremaining: 441ms\n",
      "720:\tlearn: 199445.7234236\ttotal: 1.14s\tremaining: 440ms\n",
      "721:\tlearn: 199346.6779314\ttotal: 1.14s\tremaining: 439ms\n",
      "722:\tlearn: 199250.3545716\ttotal: 1.14s\tremaining: 438ms\n",
      "723:\tlearn: 199143.2302066\ttotal: 1.14s\tremaining: 436ms\n",
      "724:\tlearn: 199065.8343383\ttotal: 1.15s\tremaining: 435ms\n",
      "725:\tlearn: 198923.1734178\ttotal: 1.15s\tremaining: 434ms\n",
      "726:\tlearn: 198730.4022251\ttotal: 1.15s\tremaining: 433ms\n",
      "727:\tlearn: 198689.2640640\ttotal: 1.15s\tremaining: 431ms\n",
      "728:\tlearn: 198618.0294279\ttotal: 1.16s\tremaining: 430ms\n",
      "729:\tlearn: 198515.0420886\ttotal: 1.16s\tremaining: 429ms\n",
      "730:\tlearn: 198413.7123710\ttotal: 1.16s\tremaining: 428ms\n",
      "731:\tlearn: 198323.9291458\ttotal: 1.17s\tremaining: 427ms\n",
      "732:\tlearn: 198205.6308038\ttotal: 1.17s\tremaining: 426ms\n",
      "733:\tlearn: 198016.7508715\ttotal: 1.17s\tremaining: 424ms\n",
      "734:\tlearn: 197874.7908476\ttotal: 1.17s\tremaining: 423ms\n",
      "735:\tlearn: 197807.5556476\ttotal: 1.18s\tremaining: 422ms\n",
      "736:\tlearn: 197764.9904896\ttotal: 1.18s\tremaining: 420ms\n",
      "737:\tlearn: 197515.2068515\ttotal: 1.18s\tremaining: 419ms\n",
      "738:\tlearn: 197488.0919758\ttotal: 1.18s\tremaining: 418ms\n",
      "739:\tlearn: 197426.4151706\ttotal: 1.19s\tremaining: 416ms\n",
      "740:\tlearn: 197349.1312550\ttotal: 1.19s\tremaining: 415ms\n",
      "741:\tlearn: 197261.2796368\ttotal: 1.19s\tremaining: 414ms\n",
      "742:\tlearn: 197103.2096922\ttotal: 1.19s\tremaining: 413ms\n",
      "743:\tlearn: 196965.1116703\ttotal: 1.2s\tremaining: 412ms\n",
      "744:\tlearn: 196772.1026463\ttotal: 1.2s\tremaining: 411ms\n",
      "745:\tlearn: 196679.8106501\ttotal: 1.2s\tremaining: 409ms\n",
      "746:\tlearn: 196560.4869981\ttotal: 1.21s\tremaining: 408ms\n",
      "747:\tlearn: 196404.7595156\ttotal: 1.21s\tremaining: 407ms\n",
      "748:\tlearn: 196287.7602474\ttotal: 1.21s\tremaining: 406ms\n",
      "749:\tlearn: 196212.7912751\ttotal: 1.21s\tremaining: 405ms\n",
      "750:\tlearn: 196140.8545324\ttotal: 1.22s\tremaining: 403ms\n",
      "751:\tlearn: 196087.0660155\ttotal: 1.22s\tremaining: 402ms\n",
      "752:\tlearn: 195951.9848233\ttotal: 1.22s\tremaining: 401ms\n",
      "753:\tlearn: 195853.0398179\ttotal: 1.22s\tremaining: 399ms\n",
      "754:\tlearn: 195772.5268087\ttotal: 1.23s\tremaining: 398ms\n",
      "755:\tlearn: 195696.0551188\ttotal: 1.23s\tremaining: 397ms\n",
      "756:\tlearn: 195566.5323778\ttotal: 1.23s\tremaining: 395ms\n",
      "757:\tlearn: 195513.4416758\ttotal: 1.24s\tremaining: 394ms\n",
      "758:\tlearn: 195437.4584175\ttotal: 1.24s\tremaining: 393ms\n",
      "759:\tlearn: 195287.6961520\ttotal: 1.24s\tremaining: 392ms\n",
      "760:\tlearn: 195199.6862551\ttotal: 1.24s\tremaining: 390ms\n",
      "761:\tlearn: 195067.3521844\ttotal: 1.25s\tremaining: 389ms\n",
      "762:\tlearn: 195001.2014723\ttotal: 1.25s\tremaining: 388ms\n",
      "763:\tlearn: 194932.7366288\ttotal: 1.25s\tremaining: 386ms\n",
      "764:\tlearn: 194774.6205296\ttotal: 1.25s\tremaining: 385ms\n",
      "765:\tlearn: 194720.3006963\ttotal: 1.25s\tremaining: 384ms\n",
      "766:\tlearn: 194652.6419889\ttotal: 1.26s\tremaining: 382ms\n",
      "767:\tlearn: 194524.4895402\ttotal: 1.26s\tremaining: 381ms\n",
      "768:\tlearn: 194473.9108268\ttotal: 1.26s\tremaining: 379ms\n",
      "769:\tlearn: 194373.8352402\ttotal: 1.26s\tremaining: 378ms\n",
      "770:\tlearn: 194283.2668120\ttotal: 1.27s\tremaining: 377ms\n",
      "771:\tlearn: 194202.5292352\ttotal: 1.27s\tremaining: 375ms\n",
      "772:\tlearn: 194157.1771675\ttotal: 1.27s\tremaining: 374ms\n",
      "773:\tlearn: 194072.8000259\ttotal: 1.27s\tremaining: 372ms\n",
      "774:\tlearn: 194021.5250441\ttotal: 1.28s\tremaining: 371ms\n",
      "775:\tlearn: 193917.6758490\ttotal: 1.28s\tremaining: 370ms\n",
      "776:\tlearn: 193869.4654089\ttotal: 1.28s\tremaining: 368ms\n",
      "777:\tlearn: 193714.2237223\ttotal: 1.29s\tremaining: 367ms\n",
      "778:\tlearn: 193641.9650885\ttotal: 1.29s\tremaining: 366ms\n",
      "779:\tlearn: 193578.4181487\ttotal: 1.29s\tremaining: 364ms\n",
      "780:\tlearn: 193514.1619491\ttotal: 1.29s\tremaining: 363ms\n",
      "781:\tlearn: 193442.3141263\ttotal: 1.3s\tremaining: 362ms\n",
      "782:\tlearn: 193366.8143233\ttotal: 1.3s\tremaining: 361ms\n",
      "783:\tlearn: 193302.4673028\ttotal: 1.3s\tremaining: 359ms\n",
      "784:\tlearn: 193174.0253253\ttotal: 1.31s\tremaining: 358ms\n",
      "785:\tlearn: 193119.3461442\ttotal: 1.31s\tremaining: 356ms\n",
      "786:\tlearn: 192988.4206063\ttotal: 1.31s\tremaining: 355ms\n",
      "787:\tlearn: 192927.3437067\ttotal: 1.31s\tremaining: 354ms\n",
      "788:\tlearn: 192806.4227453\ttotal: 1.32s\tremaining: 352ms\n",
      "789:\tlearn: 192700.2541744\ttotal: 1.32s\tremaining: 351ms\n",
      "790:\tlearn: 192586.3130151\ttotal: 1.32s\tremaining: 349ms\n",
      "791:\tlearn: 192539.6591569\ttotal: 1.32s\tremaining: 348ms\n",
      "792:\tlearn: 192396.5580338\ttotal: 1.33s\tremaining: 347ms\n",
      "793:\tlearn: 192316.4879090\ttotal: 1.33s\tremaining: 345ms\n",
      "794:\tlearn: 192254.0914553\ttotal: 1.33s\tremaining: 344ms\n",
      "795:\tlearn: 192099.9386688\ttotal: 1.33s\tremaining: 342ms\n",
      "796:\tlearn: 192048.3633614\ttotal: 1.34s\tremaining: 341ms\n",
      "797:\tlearn: 191991.0278211\ttotal: 1.34s\tremaining: 339ms\n",
      "798:\tlearn: 191908.0223224\ttotal: 1.34s\tremaining: 338ms\n",
      "799:\tlearn: 191801.5934792\ttotal: 1.34s\tremaining: 336ms\n",
      "800:\tlearn: 191705.5295886\ttotal: 1.35s\tremaining: 335ms\n",
      "801:\tlearn: 191575.1461506\ttotal: 1.35s\tremaining: 334ms\n",
      "802:\tlearn: 191492.7846169\ttotal: 1.35s\tremaining: 332ms\n",
      "803:\tlearn: 191334.5395913\ttotal: 1.36s\tremaining: 331ms\n",
      "804:\tlearn: 191205.5925953\ttotal: 1.36s\tremaining: 329ms\n",
      "805:\tlearn: 191160.2648059\ttotal: 1.36s\tremaining: 328ms\n",
      "806:\tlearn: 191066.9699218\ttotal: 1.36s\tremaining: 326ms\n",
      "807:\tlearn: 190938.9627116\ttotal: 1.37s\tremaining: 325ms\n",
      "808:\tlearn: 190805.2301907\ttotal: 1.37s\tremaining: 323ms\n",
      "809:\tlearn: 190681.4765205\ttotal: 1.37s\tremaining: 322ms\n",
      "810:\tlearn: 190577.1191972\ttotal: 1.37s\tremaining: 320ms\n",
      "811:\tlearn: 190455.0789433\ttotal: 1.38s\tremaining: 319ms\n",
      "812:\tlearn: 190383.8547493\ttotal: 1.38s\tremaining: 317ms\n",
      "813:\tlearn: 190316.3450896\ttotal: 1.38s\tremaining: 316ms\n",
      "814:\tlearn: 190218.6164377\ttotal: 1.38s\tremaining: 314ms\n",
      "815:\tlearn: 190100.5587532\ttotal: 1.39s\tremaining: 313ms\n",
      "816:\tlearn: 190001.0527845\ttotal: 1.39s\tremaining: 311ms\n",
      "817:\tlearn: 189928.9035740\ttotal: 1.39s\tremaining: 310ms\n",
      "818:\tlearn: 189856.6594930\ttotal: 1.39s\tremaining: 308ms\n",
      "819:\tlearn: 189757.7403103\ttotal: 1.4s\tremaining: 307ms\n",
      "820:\tlearn: 189690.7871779\ttotal: 1.4s\tremaining: 305ms\n",
      "821:\tlearn: 189592.3326698\ttotal: 1.4s\tremaining: 303ms\n",
      "822:\tlearn: 189504.9703743\ttotal: 1.4s\tremaining: 302ms\n",
      "823:\tlearn: 189426.5048437\ttotal: 1.41s\tremaining: 300ms\n",
      "824:\tlearn: 189318.9426230\ttotal: 1.41s\tremaining: 299ms\n",
      "825:\tlearn: 189224.6795520\ttotal: 1.41s\tremaining: 297ms\n",
      "826:\tlearn: 189194.7489021\ttotal: 1.41s\tremaining: 296ms\n",
      "827:\tlearn: 189045.3305450\ttotal: 1.42s\tremaining: 294ms\n",
      "828:\tlearn: 188941.6611199\ttotal: 1.42s\tremaining: 293ms\n",
      "829:\tlearn: 188853.1117134\ttotal: 1.42s\tremaining: 291ms\n",
      "830:\tlearn: 188701.4884048\ttotal: 1.42s\tremaining: 289ms\n",
      "831:\tlearn: 188647.4486166\ttotal: 1.43s\tremaining: 288ms\n",
      "832:\tlearn: 188578.8021288\ttotal: 1.43s\tremaining: 286ms\n",
      "833:\tlearn: 188520.0565466\ttotal: 1.43s\tremaining: 285ms\n",
      "834:\tlearn: 188438.9566382\ttotal: 1.43s\tremaining: 283ms\n",
      "835:\tlearn: 188286.9518713\ttotal: 1.44s\tremaining: 282ms\n"
     ]
    },
    {
     "name": "stdout",
     "output_type": "stream",
     "text": [
      "836:\tlearn: 188203.1390480\ttotal: 1.44s\tremaining: 280ms\n",
      "837:\tlearn: 188095.4466642\ttotal: 1.44s\tremaining: 279ms\n",
      "838:\tlearn: 188032.9122810\ttotal: 1.44s\tremaining: 277ms\n",
      "839:\tlearn: 187914.9880364\ttotal: 1.45s\tremaining: 276ms\n",
      "840:\tlearn: 187852.7204375\ttotal: 1.45s\tremaining: 274ms\n",
      "841:\tlearn: 187784.3363819\ttotal: 1.45s\tremaining: 272ms\n",
      "842:\tlearn: 187721.7585129\ttotal: 1.45s\tremaining: 271ms\n",
      "843:\tlearn: 187622.2924151\ttotal: 1.46s\tremaining: 269ms\n",
      "844:\tlearn: 187520.6220858\ttotal: 1.46s\tremaining: 268ms\n",
      "845:\tlearn: 187386.5552475\ttotal: 1.46s\tremaining: 266ms\n",
      "846:\tlearn: 187329.4898757\ttotal: 1.46s\tremaining: 265ms\n",
      "847:\tlearn: 187288.1346226\ttotal: 1.47s\tremaining: 263ms\n",
      "848:\tlearn: 187181.2563385\ttotal: 1.47s\tremaining: 261ms\n",
      "849:\tlearn: 187123.0878962\ttotal: 1.47s\tremaining: 260ms\n",
      "850:\tlearn: 187038.2444456\ttotal: 1.47s\tremaining: 258ms\n",
      "851:\tlearn: 186978.2148862\ttotal: 1.48s\tremaining: 257ms\n",
      "852:\tlearn: 186891.9948511\ttotal: 1.48s\tremaining: 255ms\n",
      "853:\tlearn: 186827.7916557\ttotal: 1.48s\tremaining: 253ms\n",
      "854:\tlearn: 186718.0042698\ttotal: 1.48s\tremaining: 252ms\n",
      "855:\tlearn: 186625.1442460\ttotal: 1.49s\tremaining: 250ms\n",
      "856:\tlearn: 186499.5989117\ttotal: 1.49s\tremaining: 249ms\n",
      "857:\tlearn: 186471.9690800\ttotal: 1.49s\tremaining: 247ms\n",
      "858:\tlearn: 186368.3672111\ttotal: 1.49s\tremaining: 245ms\n",
      "859:\tlearn: 186267.5642884\ttotal: 1.5s\tremaining: 244ms\n",
      "860:\tlearn: 186199.3710967\ttotal: 1.5s\tremaining: 242ms\n",
      "861:\tlearn: 186128.0342177\ttotal: 1.5s\tremaining: 240ms\n",
      "862:\tlearn: 186012.9053065\ttotal: 1.5s\tremaining: 239ms\n",
      "863:\tlearn: 185924.8970312\ttotal: 1.51s\tremaining: 237ms\n",
      "864:\tlearn: 185888.3019154\ttotal: 1.51s\tremaining: 235ms\n",
      "865:\tlearn: 185806.1579973\ttotal: 1.51s\tremaining: 234ms\n",
      "866:\tlearn: 185760.9426439\ttotal: 1.51s\tremaining: 232ms\n",
      "867:\tlearn: 185684.0189896\ttotal: 1.52s\tremaining: 231ms\n",
      "868:\tlearn: 185591.4241614\ttotal: 1.52s\tremaining: 229ms\n",
      "869:\tlearn: 185479.1314205\ttotal: 1.52s\tremaining: 228ms\n",
      "870:\tlearn: 185425.0375049\ttotal: 1.52s\tremaining: 226ms\n",
      "871:\tlearn: 185363.6665595\ttotal: 1.53s\tremaining: 224ms\n",
      "872:\tlearn: 185303.6887258\ttotal: 1.53s\tremaining: 223ms\n",
      "873:\tlearn: 185281.7730385\ttotal: 1.53s\tremaining: 221ms\n",
      "874:\tlearn: 185241.8257219\ttotal: 1.53s\tremaining: 219ms\n",
      "875:\tlearn: 185135.6294811\ttotal: 1.54s\tremaining: 218ms\n",
      "876:\tlearn: 185058.9502888\ttotal: 1.54s\tremaining: 216ms\n",
      "877:\tlearn: 184916.0294689\ttotal: 1.54s\tremaining: 214ms\n",
      "878:\tlearn: 184836.0905684\ttotal: 1.54s\tremaining: 213ms\n",
      "879:\tlearn: 184770.4800968\ttotal: 1.55s\tremaining: 211ms\n",
      "880:\tlearn: 184711.6960377\ttotal: 1.55s\tremaining: 209ms\n",
      "881:\tlearn: 184636.7749955\ttotal: 1.55s\tremaining: 208ms\n",
      "882:\tlearn: 184577.8019526\ttotal: 1.55s\tremaining: 206ms\n",
      "883:\tlearn: 184513.3911404\ttotal: 1.56s\tremaining: 204ms\n",
      "884:\tlearn: 184457.5749095\ttotal: 1.56s\tremaining: 203ms\n",
      "885:\tlearn: 184398.0722874\ttotal: 1.56s\tremaining: 201ms\n",
      "886:\tlearn: 184247.3483015\ttotal: 1.56s\tremaining: 199ms\n",
      "887:\tlearn: 184177.1307047\ttotal: 1.57s\tremaining: 198ms\n",
      "888:\tlearn: 184102.5713440\ttotal: 1.57s\tremaining: 196ms\n",
      "889:\tlearn: 184044.9913486\ttotal: 1.57s\tremaining: 194ms\n",
      "890:\tlearn: 183950.9153970\ttotal: 1.57s\tremaining: 192ms\n",
      "891:\tlearn: 183877.3010203\ttotal: 1.57s\tremaining: 191ms\n",
      "892:\tlearn: 183771.6983146\ttotal: 1.58s\tremaining: 189ms\n",
      "893:\tlearn: 183658.9453623\ttotal: 1.58s\tremaining: 187ms\n",
      "894:\tlearn: 183553.4127847\ttotal: 1.58s\tremaining: 186ms\n",
      "895:\tlearn: 183436.8096617\ttotal: 1.58s\tremaining: 184ms\n",
      "896:\tlearn: 183315.0607909\ttotal: 1.59s\tremaining: 182ms\n",
      "897:\tlearn: 183215.9482142\ttotal: 1.59s\tremaining: 181ms\n",
      "898:\tlearn: 183014.0106415\ttotal: 1.59s\tremaining: 179ms\n",
      "899:\tlearn: 182978.3914345\ttotal: 1.59s\tremaining: 177ms\n",
      "900:\tlearn: 182874.6109091\ttotal: 1.6s\tremaining: 175ms\n",
      "901:\tlearn: 182793.0566786\ttotal: 1.6s\tremaining: 174ms\n",
      "902:\tlearn: 182743.8884154\ttotal: 1.6s\tremaining: 172ms\n",
      "903:\tlearn: 182717.9956811\ttotal: 1.6s\tremaining: 170ms\n",
      "904:\tlearn: 182664.0088643\ttotal: 1.61s\tremaining: 169ms\n",
      "905:\tlearn: 182540.1643178\ttotal: 1.61s\tremaining: 167ms\n",
      "906:\tlearn: 182465.4480518\ttotal: 1.61s\tremaining: 165ms\n",
      "907:\tlearn: 182404.2039100\ttotal: 1.61s\tremaining: 164ms\n",
      "908:\tlearn: 182312.3940716\ttotal: 1.62s\tremaining: 162ms\n",
      "909:\tlearn: 182216.4104824\ttotal: 1.62s\tremaining: 160ms\n",
      "910:\tlearn: 182116.5126328\ttotal: 1.62s\tremaining: 158ms\n",
      "911:\tlearn: 182058.0409822\ttotal: 1.62s\tremaining: 157ms\n",
      "912:\tlearn: 181987.3193293\ttotal: 1.63s\tremaining: 155ms\n",
      "913:\tlearn: 181941.0878408\ttotal: 1.63s\tremaining: 153ms\n",
      "914:\tlearn: 181824.6099178\ttotal: 1.63s\tremaining: 152ms\n",
      "915:\tlearn: 181757.0821271\ttotal: 1.63s\tremaining: 150ms\n",
      "916:\tlearn: 181681.2575127\ttotal: 1.64s\tremaining: 148ms\n",
      "917:\tlearn: 181564.7851288\ttotal: 1.64s\tremaining: 146ms\n",
      "918:\tlearn: 181456.9320075\ttotal: 1.64s\tremaining: 145ms\n",
      "919:\tlearn: 181378.9768355\ttotal: 1.64s\tremaining: 143ms\n",
      "920:\tlearn: 181258.7767112\ttotal: 1.65s\tremaining: 141ms\n",
      "921:\tlearn: 181180.6792461\ttotal: 1.65s\tremaining: 140ms\n",
      "922:\tlearn: 181096.2058062\ttotal: 1.65s\tremaining: 138ms\n",
      "923:\tlearn: 181068.9250138\ttotal: 1.66s\tremaining: 136ms\n",
      "924:\tlearn: 181008.4275930\ttotal: 1.66s\tremaining: 134ms\n",
      "925:\tlearn: 180942.7955971\ttotal: 1.66s\tremaining: 133ms\n",
      "926:\tlearn: 180898.1356562\ttotal: 1.66s\tremaining: 131ms\n",
      "927:\tlearn: 180849.1151349\ttotal: 1.67s\tremaining: 129ms\n",
      "928:\tlearn: 180753.6242978\ttotal: 1.67s\tremaining: 127ms\n",
      "929:\tlearn: 180704.7724298\ttotal: 1.67s\tremaining: 126ms\n",
      "930:\tlearn: 180642.1095271\ttotal: 1.67s\tremaining: 124ms\n",
      "931:\tlearn: 180572.6852220\ttotal: 1.68s\tremaining: 122ms\n",
      "932:\tlearn: 180517.0061020\ttotal: 1.68s\tremaining: 121ms\n",
      "933:\tlearn: 180397.2016558\ttotal: 1.68s\tremaining: 119ms\n",
      "934:\tlearn: 180349.0600370\ttotal: 1.68s\tremaining: 117ms\n",
      "935:\tlearn: 180298.5154507\ttotal: 1.69s\tremaining: 115ms\n",
      "936:\tlearn: 180219.3905708\ttotal: 1.69s\tremaining: 113ms\n",
      "937:\tlearn: 180151.7472563\ttotal: 1.69s\tremaining: 112ms\n",
      "938:\tlearn: 180117.2631264\ttotal: 1.69s\tremaining: 110ms\n",
      "939:\tlearn: 180070.6863743\ttotal: 1.7s\tremaining: 108ms\n",
      "940:\tlearn: 180004.5655995\ttotal: 1.7s\tremaining: 106ms\n",
      "941:\tlearn: 179862.8409802\ttotal: 1.7s\tremaining: 105ms\n",
      "942:\tlearn: 179796.7002522\ttotal: 1.7s\tremaining: 103ms\n",
      "943:\tlearn: 179736.4314385\ttotal: 1.71s\tremaining: 101ms\n",
      "944:\tlearn: 179627.4209981\ttotal: 1.71s\tremaining: 99.4ms\n",
      "945:\tlearn: 179535.7580464\ttotal: 1.71s\tremaining: 97.7ms\n",
      "946:\tlearn: 179502.0463661\ttotal: 1.71s\tremaining: 95.9ms\n",
      "947:\tlearn: 179460.9321150\ttotal: 1.72s\tremaining: 94.1ms\n",
      "948:\tlearn: 179394.5884617\ttotal: 1.72s\tremaining: 92.4ms\n",
      "949:\tlearn: 179281.8011542\ttotal: 1.72s\tremaining: 90.6ms\n",
      "950:\tlearn: 179169.7892862\ttotal: 1.72s\tremaining: 88.8ms\n",
      "951:\tlearn: 179041.7839658\ttotal: 1.73s\tremaining: 87ms\n",
      "952:\tlearn: 178946.1173193\ttotal: 1.73s\tremaining: 85.3ms\n",
      "953:\tlearn: 178787.3320780\ttotal: 1.73s\tremaining: 83.5ms\n",
      "954:\tlearn: 178706.9114470\ttotal: 1.73s\tremaining: 81.7ms\n",
      "955:\tlearn: 178656.8914624\ttotal: 1.74s\tremaining: 79.9ms\n",
      "956:\tlearn: 178636.4472624\ttotal: 1.74s\tremaining: 78.1ms\n",
      "957:\tlearn: 178526.5150814\ttotal: 1.74s\tremaining: 76.3ms\n",
      "958:\tlearn: 178462.3752787\ttotal: 1.74s\tremaining: 74.6ms\n",
      "959:\tlearn: 178409.6475819\ttotal: 1.75s\tremaining: 72.8ms\n",
      "960:\tlearn: 178341.9398146\ttotal: 1.75s\tremaining: 71ms\n",
      "961:\tlearn: 178260.7602733\ttotal: 1.75s\tremaining: 69.2ms\n",
      "962:\tlearn: 178193.2883057\ttotal: 1.75s\tremaining: 67.4ms\n",
      "963:\tlearn: 178130.5199323\ttotal: 1.76s\tremaining: 65.6ms\n",
      "964:\tlearn: 178099.1183959\ttotal: 1.76s\tremaining: 63.8ms\n",
      "965:\tlearn: 178069.4542749\ttotal: 1.76s\tremaining: 62ms\n",
      "966:\tlearn: 178040.1582116\ttotal: 1.76s\tremaining: 60.2ms\n",
      "967:\tlearn: 177965.0551215\ttotal: 1.77s\tremaining: 58.4ms\n",
      "968:\tlearn: 177894.8449474\ttotal: 1.77s\tremaining: 56.6ms\n",
      "969:\tlearn: 177857.0508859\ttotal: 1.77s\tremaining: 54.8ms\n",
      "970:\tlearn: 177801.5330910\ttotal: 1.77s\tremaining: 53ms\n",
      "971:\tlearn: 177759.7233097\ttotal: 1.78s\tremaining: 51.2ms\n",
      "972:\tlearn: 177679.9855187\ttotal: 1.78s\tremaining: 49.4ms\n",
      "973:\tlearn: 177625.8358610\ttotal: 1.78s\tremaining: 47.6ms\n",
      "974:\tlearn: 177508.5039714\ttotal: 1.78s\tremaining: 45.8ms\n",
      "975:\tlearn: 177446.6803258\ttotal: 1.79s\tremaining: 43.9ms\n",
      "976:\tlearn: 177372.0306039\ttotal: 1.79s\tremaining: 42.1ms\n",
      "977:\tlearn: 177289.9483444\ttotal: 1.79s\tremaining: 40.3ms\n",
      "978:\tlearn: 177185.7687320\ttotal: 1.79s\tremaining: 38.5ms\n",
      "979:\tlearn: 177096.4029019\ttotal: 1.8s\tremaining: 36.7ms\n",
      "980:\tlearn: 177023.9954804\ttotal: 1.8s\tremaining: 34.9ms\n",
      "981:\tlearn: 176970.2738875\ttotal: 1.8s\tremaining: 33.1ms\n",
      "982:\tlearn: 176911.4121233\ttotal: 1.8s\tremaining: 31.2ms\n",
      "983:\tlearn: 176780.7893767\ttotal: 1.81s\tremaining: 29.4ms\n",
      "984:\tlearn: 176682.0836600\ttotal: 1.81s\tremaining: 27.6ms\n",
      "985:\tlearn: 176614.4986614\ttotal: 1.81s\tremaining: 25.8ms\n",
      "986:\tlearn: 176571.8943275\ttotal: 1.81s\tremaining: 23.9ms\n",
      "987:\tlearn: 176411.3930732\ttotal: 1.82s\tremaining: 22.1ms\n",
      "988:\tlearn: 176352.7792572\ttotal: 1.82s\tremaining: 20.3ms\n",
      "989:\tlearn: 176333.2716277\ttotal: 1.82s\tremaining: 18.4ms\n",
      "990:\tlearn: 176283.0633428\ttotal: 1.83s\tremaining: 16.6ms\n",
      "991:\tlearn: 176174.7776908\ttotal: 1.83s\tremaining: 14.8ms\n",
      "992:\tlearn: 176071.2845595\ttotal: 1.83s\tremaining: 12.9ms\n",
      "993:\tlearn: 175949.2195675\ttotal: 1.83s\tremaining: 11.1ms\n",
      "994:\tlearn: 175865.6120375\ttotal: 1.84s\tremaining: 9.23ms\n",
      "995:\tlearn: 175762.3913582\ttotal: 1.84s\tremaining: 7.39ms\n",
      "996:\tlearn: 175706.4573120\ttotal: 1.84s\tremaining: 5.54ms\n",
      "997:\tlearn: 175655.6843546\ttotal: 1.84s\tremaining: 3.7ms\n",
      "998:\tlearn: 175570.4044919\ttotal: 1.85s\tremaining: 1.85ms\n",
      "999:\tlearn: 175479.1561535\ttotal: 1.85s\tremaining: 0us\n"
     ]
    },
    {
     "name": "stdout",
     "output_type": "stream",
     "text": [
      "Best Model:\n",
      "      Model           RMSE\n",
      "9  LightGBM  344079.208792\n"
     ]
    }
   ],
   "source": [
    "# Initialize the regression models\n",
    "models = {\n",
    "    'Linear Regression': LinearRegression(),\n",
    "    'Random Forest': RandomForestRegressor(),\n",
    "    'Gradient Boosting': GradientBoostingRegressor(),\n",
    "    'AdaBoost': AdaBoostRegressor(),\n",
    "    'Support Vector Regression': SVR(),\n",
    "    'K-Nearest Neighbors': KNeighborsRegressor(),\n",
    "    'Decision Tree': DecisionTreeRegressor(),\n",
    "    'CatBoost': CatBoostRegressor(),\n",
    "    'XGBoost': XGBRegressor(),\n",
    "    'LightGBM': LGBMRegressor(),\n",
    "    'Lasso': Lasso(),\n",
    "    'Ridge': Ridge(),\n",
    "    'ElasticNet': ElasticNet(),\n",
    "}\n",
    "\n",
    "\n",
    "# Train and evaluate each model\n",
    "results = []\n",
    "for name, model in models.items():\n",
    "    model.fit(X_train, y_train)\n",
    "    y_pred = model.predict(X_test)\n",
    "    rmse = np.sqrt(mean_squared_error(y_test, y_pred))\n",
    "    results.append((name, rmse))\n",
    "\n",
    "# Convert results to DataFrame\n",
    "results_df = pd.DataFrame(results, columns=['Model', 'RMSE'])\n",
    "\n",
    "# Sort by RMSE in ascending order\n",
    "results_df = results_df.sort_values(by='RMSE', ascending=True)\n",
    "\n",
    "# Print the best model and its RMSE\n",
    "print(\"Best Model:\")\n",
    "print(results_df.head(1))"
   ]
  },
  {
   "cell_type": "code",
   "execution_count": 339,
   "metadata": {
    "id": "cik2oE324SGA"
   },
   "outputs": [
    {
     "data": {
      "text/html": [
       "<div>\n",
       "<style scoped>\n",
       "    .dataframe tbody tr th:only-of-type {\n",
       "        vertical-align: middle;\n",
       "    }\n",
       "\n",
       "    .dataframe tbody tr th {\n",
       "        vertical-align: top;\n",
       "    }\n",
       "\n",
       "    .dataframe thead th {\n",
       "        text-align: right;\n",
       "    }\n",
       "</style>\n",
       "<table border=\"1\" class=\"dataframe\">\n",
       "  <thead>\n",
       "    <tr style=\"text-align: right;\">\n",
       "      <th></th>\n",
       "      <th>Model</th>\n",
       "      <th>RMSE</th>\n",
       "    </tr>\n",
       "  </thead>\n",
       "  <tbody>\n",
       "    <tr>\n",
       "      <th>9</th>\n",
       "      <td>LightGBM</td>\n",
       "      <td>344079.208792</td>\n",
       "    </tr>\n",
       "    <tr>\n",
       "      <th>2</th>\n",
       "      <td>Gradient Boosting</td>\n",
       "      <td>344681.838720</td>\n",
       "    </tr>\n",
       "    <tr>\n",
       "      <th>7</th>\n",
       "      <td>CatBoost</td>\n",
       "      <td>350057.434833</td>\n",
       "    </tr>\n",
       "    <tr>\n",
       "      <th>8</th>\n",
       "      <td>XGBoost</td>\n",
       "      <td>389057.069019</td>\n",
       "    </tr>\n",
       "    <tr>\n",
       "      <th>1</th>\n",
       "      <td>Random Forest</td>\n",
       "      <td>390573.197571</td>\n",
       "    </tr>\n",
       "    <tr>\n",
       "      <th>5</th>\n",
       "      <td>K-Nearest Neighbors</td>\n",
       "      <td>454481.636165</td>\n",
       "    </tr>\n",
       "    <tr>\n",
       "      <th>11</th>\n",
       "      <td>Ridge</td>\n",
       "      <td>500397.978109</td>\n",
       "    </tr>\n",
       "    <tr>\n",
       "      <th>0</th>\n",
       "      <td>Linear Regression</td>\n",
       "      <td>500399.192827</td>\n",
       "    </tr>\n",
       "    <tr>\n",
       "      <th>10</th>\n",
       "      <td>Lasso</td>\n",
       "      <td>500399.222793</td>\n",
       "    </tr>\n",
       "    <tr>\n",
       "      <th>12</th>\n",
       "      <td>ElasticNet</td>\n",
       "      <td>503412.397762</td>\n",
       "    </tr>\n",
       "    <tr>\n",
       "      <th>3</th>\n",
       "      <td>AdaBoost</td>\n",
       "      <td>504710.380660</td>\n",
       "    </tr>\n",
       "    <tr>\n",
       "      <th>6</th>\n",
       "      <td>Decision Tree</td>\n",
       "      <td>525796.904450</td>\n",
       "    </tr>\n",
       "    <tr>\n",
       "      <th>4</th>\n",
       "      <td>Support Vector Regression</td>\n",
       "      <td>894064.316840</td>\n",
       "    </tr>\n",
       "  </tbody>\n",
       "</table>\n",
       "</div>"
      ],
      "text/plain": [
       "                        Model           RMSE\n",
       "9                    LightGBM  344079.208792\n",
       "2           Gradient Boosting  344681.838720\n",
       "7                    CatBoost  350057.434833\n",
       "8                     XGBoost  389057.069019\n",
       "1               Random Forest  390573.197571\n",
       "5         K-Nearest Neighbors  454481.636165\n",
       "11                      Ridge  500397.978109\n",
       "0           Linear Regression  500399.192827\n",
       "10                      Lasso  500399.222793\n",
       "12                 ElasticNet  503412.397762\n",
       "3                    AdaBoost  504710.380660\n",
       "6               Decision Tree  525796.904450\n",
       "4   Support Vector Regression  894064.316840"
      ]
     },
     "execution_count": 339,
     "metadata": {},
     "output_type": "execute_result"
    }
   ],
   "source": [
    "results_df"
   ]
  },
  {
   "cell_type": "code",
   "execution_count": 340,
   "metadata": {},
   "outputs": [
    {
     "name": "stdout",
     "output_type": "stream",
     "text": [
      "Root Mean Squared Error for CatBoost Regressor = 305272.42\n"
     ]
    }
   ],
   "source": [
    "\n",
    "# Define hyperparameters to tune\n",
    "param_grid = {\n",
    "    'n_estimators': [50, 100, 150], # Number of boosting stages to be run\n",
    "    'learning_rate': [0.05, 0.1, 0.2], # Shrinkage parameter to prevent overfitting\n",
    "    'max_depth': [3, 4, 5], # Maximum depth of the individual trees\n",
    "}\n",
    "\n",
    "# Perform KFold cross-validation for hyperparameter tuning\n",
    "kf = KFold(n_splits=5, shuffle=True, random_state=42)\n",
    "best_params = None\n",
    "best_rmse = float('inf')\n",
    "\n",
    "for n_estimators in param_grid['n_estimators']:\n",
    "    for learning_rate in param_grid['learning_rate']:\n",
    "        for max_depth in param_grid['max_depth']:\n",
    "            rmses = []\n",
    "            for train_idx, val_idx in kf.split(X):\n",
    "                X_train, X_val = X.iloc[train_idx], X.iloc[val_idx]\n",
    "                y_train, y_val = y.iloc[train_idx], y.iloc[val_idx]\n",
    "\n",
    "                catboost_model = CatBoostRegressor(n_estimators=n_estimators, learning_rate=learning_rate, max_depth=max_depth, random_state=42)\n",
    "                catboost_model.fit(X_train, y_train, verbose=False)\n",
    "                y_pred = catboost_model.predict(X_val)\n",
    "                rmse = mean_squared_error(y_val, y_pred, squared=False)\n",
    "                rmses.append(rmse)\n",
    "\n",
    "            mean_rmse = np.mean(rmses)\n",
    "            if mean_rmse < best_rmse:\n",
    "                best_rmse = mean_rmse\n",
    "                best_params = {\n",
    "                    'n_estimators': n_estimators,\n",
    "                    'learning_rate': learning_rate,\n",
    "                    'max_depth': max_depth\n",
    "                }\n",
    "\n",
    "# Initialize the best CatBoost Regressor with the best hyperparameters\n",
    "best_catboost_model = CatBoostRegressor(**best_params, random_state=42)\n",
    "\n",
    "# Train the model on the full training data\n",
    "best_catboost_model.fit(X, y, verbose=False)\n",
    "\n",
    "# Predict on the test set\n",
    "y_pred = best_catboost_model.predict(X_test)\n",
    "\n",
    "# Calculate and print RMSE\n",
    "rmse = mean_squared_error(y_test, y_pred, squared=False)\n",
    "print(f\"Root Mean Squared Error for CatBoost Regressor = {rmse:.2f}\")\n"
   ]
  },
  {
   "cell_type": "code",
   "execution_count": 341,
   "metadata": {},
   "outputs": [
    {
     "name": "stdout",
     "output_type": "stream",
     "text": [
      "Root Mean Squared Error for LGBM Regressor = 310037.72\n"
     ]
    }
   ],
   "source": [
    "\n",
    "# Define hyperparameters to tune\n",
    "param_grid = {\n",
    "    'n_estimators': [50, 100, 150],  # Number of boosting stages to be run\n",
    "    'learning_rate': [0.05, 0.1, 0.2],  # Shrinkage parameter to prevent overfitting\n",
    "    'max_depth': [3, 4, 5],  # Maximum depth of the individual trees\n",
    "}\n",
    "\n",
    "# Perform KFold cross-validation for hyperparameter tuning\n",
    "kf = KFold(n_splits=5, shuffle=True, random_state=42)\n",
    "best_params = None\n",
    "best_rmse = float('inf')\n",
    "\n",
    "for n_estimators in param_grid['n_estimators']:\n",
    "    for learning_rate in param_grid['learning_rate']:\n",
    "        for max_depth in param_grid['max_depth']:\n",
    "            rmses = []\n",
    "            for train_idx, val_idx in kf.split(X):\n",
    "                X_train, X_val = X.iloc[train_idx], X.iloc[val_idx]\n",
    "                y_train, y_val = y.iloc[train_idx], y.iloc[val_idx]\n",
    "\n",
    "                lgbm_model = LGBMRegressor(n_estimators=n_estimators, learning_rate=learning_rate, max_depth=max_depth, random_state=42)\n",
    "                lgbm_model.fit(X_train, y_train)\n",
    "                y_pred = lgbm_model.predict(X_val)\n",
    "                rmse = mean_squared_error(y_val, y_pred, squared=False)\n",
    "                rmses.append(rmse)\n",
    "\n",
    "            mean_rmse = np.mean(rmses)\n",
    "            if mean_rmse < best_rmse:\n",
    "                best_rmse = mean_rmse\n",
    "                best_params = {\n",
    "                    'n_estimators': n_estimators,\n",
    "                    'learning_rate': learning_rate,\n",
    "                    'max_depth': max_depth\n",
    "                }\n",
    "\n",
    "# Initialize the best LGBM Regressor with the best hyperparameters\n",
    "best_lgbm_model = LGBMRegressor(**best_params, random_state=42)\n",
    "\n",
    "# Train the model on the full training data\n",
    "best_lgbm_model.fit(X, y)\n",
    "\n",
    "# Predict on the test set\n",
    "y_pred = best_lgbm_model.predict(X_test)\n",
    "\n",
    "# Calculate and print RMSE\n",
    "rmse = mean_squared_error(y_test, y_pred, squared=False)\n",
    "print(f\"Root Mean Squared Error for LGBM Regressor = {rmse:.2f}\")"
   ]
  },
  {
   "cell_type": "code",
   "execution_count": 342,
   "metadata": {},
   "outputs": [
    {
     "name": "stdout",
     "output_type": "stream",
     "text": [
      "Root Mean Squared Error for Gradient Boosting Regressor = 302345.52\n"
     ]
    }
   ],
   "source": [
    "# Define hyperparameters to tune\n",
    "param_grid = {\n",
    "    'n_estimators': [50, 100, 150],  # Number of boosting stages to be run\n",
    "    'learning_rate': [0.05, 0.1, 0.2],  # Shrinkage parameter to prevent overfitting\n",
    "    'max_depth': [3, 4, 5],  # Maximum depth of the individual trees\n",
    "}\n",
    "\n",
    "# Perform KFold cross-validation for hyperparameter tuning\n",
    "kf = KFold(n_splits=5, shuffle=True, random_state=42)\n",
    "best_params = None\n",
    "best_rmse = float('inf')\n",
    "\n",
    "for n_estimators in param_grid['n_estimators']:\n",
    "    for learning_rate in param_grid['learning_rate']:\n",
    "        for max_depth in param_grid['max_depth']:\n",
    "            rmses = []\n",
    "            for train_idx, val_idx in kf.split(X):\n",
    "                X_train, X_val = X.iloc[train_idx], X.iloc[val_idx]\n",
    "                y_train, y_val = y.iloc[train_idx], y.iloc[val_idx]\n",
    "\n",
    "                gb_model = GradientBoostingRegressor(n_estimators=n_estimators, learning_rate=learning_rate, max_depth=max_depth, random_state=42)\n",
    "                gb_model.fit(X_train, y_train)\n",
    "                y_pred = gb_model.predict(X_val)\n",
    "                rmse = mean_squared_error(y_val, y_pred, squared=False)\n",
    "                rmses.append(rmse)\n",
    "\n",
    "            mean_rmse = np.mean(rmses)\n",
    "            if mean_rmse < best_rmse:\n",
    "                best_rmse = mean_rmse\n",
    "                best_params = {\n",
    "                    'n_estimators': n_estimators,\n",
    "                    'learning_rate': learning_rate,\n",
    "                    'max_depth': max_depth\n",
    "                }\n",
    "\n",
    "# Initialize the best Gradient Boosting Regressor with the best hyperparameters\n",
    "best_gb_model = GradientBoostingRegressor(**best_params, random_state=42)\n",
    "\n",
    "# Train the model on the full training data\n",
    "best_gb_model.fit(X, y)\n",
    "\n",
    "# Predict on the test set\n",
    "y_pred = best_gb_model.predict(X_test)\n",
    "\n",
    "# Calculate and print RMSE\n",
    "rmse = mean_squared_error(y_test, y_pred, squared=False)\n",
    "print(f\"Root Mean Squared Error for Gradient Boosting Regressor = {rmse:.2f}\")"
   ]
  },
  {
   "cell_type": "code",
   "execution_count": 345,
   "metadata": {
    "scrolled": false
   },
   "outputs": [
    {
     "name": "stdout",
     "output_type": "stream",
     "text": [
      "Feature ranking (in ascending order):\n",
      "1. Feature 'title' with importance 37.2329\n",
      "2. Feature 'bedroom' with importance 20.2658\n",
      "3. Feature 'region' with importance 17.6535\n",
      "4. Feature 'loc' with importance 15.0530\n",
      "5. Feature 'total_rooms' with importance 7.6302\n",
      "6. Feature 'bedroom_group' with importance 1.1952\n",
      "7. Feature 'parking_space' with importance 0.5590\n",
      "8. Feature 'bathroom_type' with importance 0.1878\n",
      "9. Feature 'bathroom' with importance 0.1238\n",
      "10. Feature 'bedroom_bathroom_ratio' with importance 0.0989\n"
     ]
    },
    {
     "data": {
      "image/png": "[encoded data removed]",
      "text/plain": [
       "<Figure size 720x432 with 1 Axes>"
      ]
     },
     "metadata": {},
     "output_type": "display_data"
    }
   ],
   "source": [
    "# Get feature importances\n",
    "importances = best_catboost_model.feature_importances_\n",
    "\n",
    "# Sort indices by importance score in ascending order\n",
    "indices = np.argsort(importances)\n",
    "\n",
    "# Reverse the order to get descending order\n",
    "indices = indices[::-1]\n",
    "\n",
    "# Print feature ranking\n",
    "print(\"Feature ranking (in ascending order):\")\n",
    "for f in range(X_train.shape[1]):\n",
    "    print(f\"{f + 1}. Feature '{X_train.columns[indices[f]]}' with importance {importances[indices[f]]:.4f}\")\n",
    "\n",
    "# Plot feature importances in ascending order\n",
    "plt.figure(figsize=(10, 6))\n",
    "plt.title(\"Feature Importances (in ascending order)\")\n",
    "plt.bar(range(X_train.shape[1]), importances[indices], color=\"b\", align=\"center\")\n",
    "plt.xticks(range(X_train.shape[1]), X_train.columns[indices], rotation=90)\n",
    "plt.xlim([-1, X_train.shape[1]])\n",
    "plt.tight_layout()\n",
    "plt.show()"
   ]
  },
  {
   "cell_type": "code",
   "execution_count": 192,
   "metadata": {},
   "outputs": [],
   "source": [
    "# Once your model is trained and tuned, you can make predictions on X_test_scaled for final evaluation\n",
    "y_test_pred =  best_catboost_model.predict(test)\n",
    "\n",
    "# For submission, create a DataFrame using the sample_submission's \"id\" column and the model's predictions\n",
    "submission_df = pd.DataFrame({\n",
    "    \"ID\": sample.ID,\n",
    "    \"price\": y_test_pred\n",
    "})\n",
    "\n",
    "# Save the submission DataFrame to a CSV file\n",
    "submission_df.to_csv(\"pred4_18.csv\", index=False)"
   ]
  },
  {
   "cell_type": "code",
   "execution_count": null,
   "metadata": {},
   "outputs": [],
   "source": []
  },
  {
   "cell_type": "code",
   "execution_count": null,
   "metadata": {},
   "outputs": [],
   "source": []
  },
  {
   "cell_type": "code",
   "execution_count": null,
   "metadata": {},
   "outputs": [],
   "source": []
  }
 ],
 "metadata": {
  "colab": {
   "provenance": []
  },
  "kernelspec": {
   "display_name": "Python 3 (ipykernel)",
   "language": "python",
   "name": "python3"
  },
  "language_info": {
   "codemirror_mode": {
    "name": "ipython",
    "version": 3
   },
   "file_extension": ".py",
   "mimetype": "text/x-python",
   "name": "python",
   "nbconvert_exporter": "python",
   "pygments_lexer": "ipython3",
   "version": "3.9.12"
  }
 },
 "nbformat": 4,
 "nbformat_minor": 1
}
